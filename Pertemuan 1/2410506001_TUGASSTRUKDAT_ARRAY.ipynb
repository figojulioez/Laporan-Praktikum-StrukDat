{
  "nbformat": 4,
  "nbformat_minor": 0,
  "metadata": {
    "colab": {
      "provenance": [],
      "authorship_tag": "ABX9TyMYdFBT0K4OQRUSzmdocmD9",
      "include_colab_link": true
    },
    "kernelspec": {
      "name": "python3",
      "display_name": "Python 3"
    },
    "language_info": {
      "name": "python"
    }
  },
  "cells": [
    {
      "cell_type": "markdown",
      "metadata": {
        "id": "view-in-github",
        "colab_type": "text"
      },
      "source": [
        "<a href=\"https://colab.research.google.com/github/figojulioez/Laporan-Praktikum-StrukDat/blob/main/Pertemuan%201/2410506001_TUGASSTRUKDAT_ARRAY.ipynb\" target=\"_parent\"><img src=\"https://colab.research.google.com/assets/colab-badge.svg\" alt=\"Open In Colab\"/></a>"
      ]
    },
    {
      "cell_type": "code",
      "source": [
        "# Ukuran peta\n",
        "size = 10\n",
        "\n",
        "# Membuka peta dengan harta karun tersembunyi\n",
        "treasure_map = [\"_\" for _ in range(size) ]\n",
        "\n",
        "# Tentukan lokasi harta karun secara manual\n",
        "print(f\"Selamat datang di Treasure Hunt! Peta memiliki {size} lokasi (0 hinnga {size-1}).\")\n",
        "\n",
        "treasure_index = int(input(f\"Masukan lokasi harta karun (0-{size - 1}) : \"))\n",
        "while treasure_index < 0 or treasure_index >= size:\n",
        "    print(\"Lokasi tidak valid. Masukan angka dalam rentang yang benar.\")\n",
        "    treasure_index = int(input(f\"Masukan lokasi harta karun (0-{size - 1}) : \"))\n",
        "\n",
        "treasure_map[treasure_index] = \"X\" # Menyembunyikan harta karun di lokasi yang dipilih\n",
        "\n",
        "# Fungsi untuk memulai permainan\n",
        "def play_treasure_hunt() :\n",
        "  print(\"\\nHarta karun telah disembunyikan! sekarang giliran pemain menebak.\")\n",
        "  print(\"Cobalah untuk menemukan harta karun dengan menebak indeks yang benar.\")\n",
        "\n",
        "  # Loop permainan\n",
        "  while True :\n",
        "    # Menampilkan peta tersebunyi kepada pemain\n",
        "    print(\"\\nPeta saat ini: \", [\"_\" for _ in range(size)]) #  Peta tersembunyi\n",
        "\n",
        "    # Input pemain\n",
        "    try :\n",
        "      guess = int(input(f\"Masukan indeks tebakanmu (0-{size - 1}): \"))\n",
        "    except:\n",
        "      print(\"Masukan angka yang valid!\")\n",
        "      continue\n",
        "\n",
        "    # Validasi input\n",
        "    if guess < 0 or guess >= size:\n",
        "      print(\"Indeks tidak valid, pilih antara 0 hingga\", size-1)\n",
        "      continue\n",
        "\n",
        "    if treasure_map[guess] == \"X\":\n",
        "      print(\"\")\n",
        "      print( treasure_map )\n",
        "      print(\"Selamat! Kamu menemukan harta karun di lokasi:\", guess)\n",
        "      break\n",
        "    else :\n",
        "      print(\"Tidak ada harta di lokasi ini. Coba lagi!\")\n",
        "\n",
        "  print(\"Terima kasih sudah bermain!\")\n",
        "\n",
        "# Jalankan permainan\n",
        "play_treasure_hunt()"
      ],
      "metadata": {
        "colab": {
          "base_uri": "https://localhost:8080/"
        },
        "id": "Z93A05sST2Bg",
        "outputId": "7d3c7616-9809-45d8-a1ed-e8fa7ef5ae53"
      },
      "execution_count": null,
      "outputs": [
        {
          "output_type": "stream",
          "name": "stdout",
          "text": [
            "Selamat datang di Treasure Hunt! Peta memiliki 10 lokasi (0 hinnga 9).\n",
            "Masukan lokasi harta karun (0-9) : 2\n",
            "\n",
            "Harta karun telah disembunyikan! sekarang giliran pemain menebak.\n",
            "Cobalah untuk menemukan harta karun dengan menebak indeks yang benar.\n",
            "\n",
            "Peta saat ini:  ['_', '_', '_', '_', '_', '_', '_', '_', '_', '_']\n",
            "Masukan indeks tebakanmu (0-9): 3\n",
            "Tidak ada harta di lokasi ini. Coba lagi!\n",
            "\n",
            "Peta saat ini:  ['_', '_', '_', '_', '_', '_', '_', '_', '_', '_']\n",
            "Masukan indeks tebakanmu (0-9): 2\n",
            "\n",
            "['_', '_', 'X', '_', '_', '_', '_', '_', '_', '_']\n",
            "Selamat! Kamu menemukan harta karun di lokasi: 2\n",
            "Terima kasih sudah bermain!\n"
          ]
        }
      ]
    },
    {
      "cell_type": "markdown",
      "source": [
        "# Tugas\n",
        "a. Input ukuran peta yang diinginkan.\n",
        "# .\n",
        "b. Program dapat secara otomatis mengacak lokasi harta karun."
      ],
      "metadata": {
        "id": "EOcmdGwLhOWC"
      }
    },
    {
      "cell_type": "code",
      "source": [
        "import random\n",
        "# Ukuran peta\n",
        "size = int(input(\"Jumlah ukuran peta: \"))\n",
        "\n",
        "\n",
        "# Membuka peta dengan harta karun tersembunyi\n",
        "treasure_map = [\"_\" for _ in range(size) ]\n",
        "\n",
        "# Tentukan lokasi harta karun secara manual\n",
        "print(f\"Selamat datang di Treasure Hunt! Peta memiliki {size} lokasi (0 hinnga {size-1}).\")\n",
        "\n",
        "treasure_index = random.randint(0, size - 1)\n",
        "\n",
        "\n",
        "treasure_map[treasure_index] = \"X\" # Menyembunyikan harta karun di lokasi yang dipilih\n",
        "\n",
        "# Fungsi untuk memulai permainan\n",
        "def play_treasure_hunt() :\n",
        "  print(\"\\nHarta karun telah disembunyikan! sekarang giliran pemain menebak.\")\n",
        "  print(\"Cobalah untuk menemukan harta karun dengan menebak indeks yang benar.\")\n",
        "\n",
        "  # Loop permainan\n",
        "  while True :\n",
        "    # Menampilkan peta tersebunyi kepada pemain\n",
        "    print(\"\\nPeta saat ini: \", [\"_\" for _ in range(size)]) #  Peta tersembunyi\n",
        "\n",
        "    # Input pemain\n",
        "    try :\n",
        "      guess = int(input(f\"Masukan indeks tebakanmu (0-{size - 1}): \"))\n",
        "    except:\n",
        "      print(\"Masukan angka yang valid!\")\n",
        "      continue\n",
        "\n",
        "    # Validasi input\n",
        "    if guess < 0 or guess >= size:\n",
        "      print(\"Indeks tidak valid, pilih antara 0 hingga\", size-1)\n",
        "      continue\n",
        "\n",
        "    if treasure_map[guess] == \"X\":\n",
        "      print(\"\")\n",
        "      print( treasure_map )\n",
        "      print(\"Selamat! Kamu menemukan harta karun di lokasi:\", guess)\n",
        "      break\n",
        "    else :\n",
        "      print(\"Tidak ada harta di lokasi ini. Coba lagi!\")\n",
        "\n",
        "  print(\"Terima kasih sudah bermain!\")\n",
        "\n",
        "# Jalankan permainan\n",
        "play_treasure_hunt()"
      ],
      "metadata": {
        "id": "5gqrjqD_hsta",
        "colab": {
          "base_uri": "https://localhost:8080/"
        },
        "outputId": "0578bd60-50a7-404f-eb75-98f16b0bfa12"
      },
      "execution_count": 1,
      "outputs": [
        {
          "output_type": "stream",
          "name": "stdout",
          "text": [
            "Jumlah ukuran peta: 2\n",
            "Selamat datang di Treasure Hunt! Peta memiliki 2 lokasi (0 hinnga 1).\n",
            "\n",
            "Harta karun telah disembunyikan! sekarang giliran pemain menebak.\n",
            "Cobalah untuk menemukan harta karun dengan menebak indeks yang benar.\n",
            "\n",
            "Peta saat ini:  ['_', '_']\n",
            "Masukan indeks tebakanmu (0-1): 1\n",
            "\n",
            "['_', 'X']\n",
            "Selamat! Kamu menemukan harta karun di lokasi: 1\n",
            "Terima kasih sudah bermain!\n"
          ]
        }
      ]
    },
    {
      "cell_type": "code",
      "source": [],
      "metadata": {
        "id": "oTR6Cw-RiP1c"
      },
      "execution_count": null,
      "outputs": []
    }
  ]
}