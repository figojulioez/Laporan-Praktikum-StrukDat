{
  "nbformat": 4,
  "nbformat_minor": 0,
  "metadata": {
    "colab": {
      "provenance": [],
      "authorship_tag": "ABX9TyPbX1Tk7SLn6uEvb0hql9r0",
      "include_colab_link": true
    },
    "kernelspec": {
      "name": "python3",
      "display_name": "Python 3"
    },
    "language_info": {
      "name": "python"
    }
  },
  "cells": [
    {
      "cell_type": "markdown",
      "metadata": {
        "id": "view-in-github",
        "colab_type": "text"
      },
      "source": [
        "<a href=\"https://colab.research.google.com/github/figojulioez/Laporan-Praktikum-StrukDat/blob/main/Pertemuan%201/2410506001_STRUKDAT_ARRAY.ipynb\" target=\"_parent\"><img src=\"https://colab.research.google.com/assets/colab-badge.svg\" alt=\"Open In Colab\"/></a>"
      ]
    },
    {
      "cell_type": "code",
      "source": [
        "# Deklarasi array kosong\n",
        "data = []\n",
        "\n",
        "# Inisialisasi array dengan elemen\n",
        "angka = [10, 20, 30, 40, 50]\n",
        "\n",
        "# Menampilkan isi array\n",
        "print(\"Isi array angka: \", angka)"
      ],
      "metadata": {
        "colab": {
          "base_uri": "https://localhost:8080/"
        },
        "id": "e94UGiUwKjHp",
        "outputId": "25476ecd-b243-4fa4-b7c4-baa279581e35"
      },
      "execution_count": 24,
      "outputs": [
        {
          "output_type": "stream",
          "name": "stdout",
          "text": [
            "Isi array angka:  [10, 20, 30, 40, 50]\n"
          ]
        }
      ]
    },
    {
      "cell_type": "markdown",
      "source": [
        "# Latihan 1\n",
        "Buatlah array yang berisi NPM Anda diikuti dengan 4 NPM sebelum ATAU setelah Anda kemudian tampilkan isi array tersebut!"
      ],
      "metadata": {
        "id": "1IedtgE7Ozcp"
      }
    },
    {
      "cell_type": "code",
      "source": [
        "npms = [2410506001, 2410506002, 2410506003, 2410506004, 2410506005]\n",
        "\n",
        "print(\"Isi array npms: \", npms)"
      ],
      "metadata": {
        "colab": {
          "base_uri": "https://localhost:8080/"
        },
        "id": "3HvHmBnOUdJh",
        "outputId": "600b71e5-6019-411b-f84d-c5c0b07422a1"
      },
      "execution_count": 25,
      "outputs": [
        {
          "output_type": "stream",
          "name": "stdout",
          "text": [
            "Isi array npms:  [2410506001, 2410506002, 2410506003, 2410506004, 2410506005]\n"
          ]
        }
      ]
    },
    {
      "cell_type": "code",
      "execution_count": 26,
      "metadata": {
        "colab": {
          "base_uri": "https://localhost:8080/"
        },
        "id": "9JdAuDWLJzxi",
        "outputId": "78598d3e-e2bc-45b0-9d9d-a262f3d6f7dd"
      },
      "outputs": [
        {
          "output_type": "stream",
          "name": "stdout",
          "text": [
            "Elemen pertama:  10\n",
            "Elemen terakhir:  50\n"
          ]
        }
      ],
      "source": [
        "# Mengakses elemen Array\n",
        "print(\"Elemen pertama: \", angka[0]) # Elemen pertama\n",
        "print(\"Elemen terakhir: \", angka[-1]) # Elemen terakhir\n"
      ]
    },
    {
      "cell_type": "code",
      "source": [
        "# Menambah elemen menggunakan append()\n",
        "angka.append(60)\n",
        "print(\"Array setelah penambahan elemen:\", angka)\n",
        "\n",
        "# Menambah elemen menggunakan insert()\n",
        "angka.insert(2, 25) # Menyismpkan 25 di indeks ke-2\n",
        "print(\"Array setelah penambahan elemen dengan insert: \",angka)"
      ],
      "metadata": {
        "colab": {
          "base_uri": "https://localhost:8080/"
        },
        "id": "UbKmJPVbLUkg",
        "outputId": "4c566915-86c2-416d-a242-906f63fc4488"
      },
      "execution_count": 27,
      "outputs": [
        {
          "output_type": "stream",
          "name": "stdout",
          "text": [
            "Array setelah penambahan elemen: [10, 20, 30, 40, 50, 60]\n",
            "Array setelah penambahan elemen dengan insert:  [10, 20, 25, 30, 40, 50, 60]\n"
          ]
        }
      ]
    },
    {
      "cell_type": "code",
      "source": [
        "# Menghapus elemen menggunakan remove()\n",
        "angka.remove(25) # Menghapus nilai 25\n",
        "print(\"Array setelah menghapus elemen 25: \", angka)\n",
        "\n",
        "# Menghapus elemen menggunakan pop()\n",
        "angka.pop(2) # Menghapus elemen pada indeks ke-2\n",
        "\n",
        "print(\"Array setelah menghapus elemen pada indeks 2:\", angka)"
      ],
      "metadata": {
        "colab": {
          "base_uri": "https://localhost:8080/"
        },
        "id": "jvaXq3T5MCvR",
        "outputId": "1b985abc-7434-489f-958b-5b1e4eb34382"
      },
      "execution_count": 28,
      "outputs": [
        {
          "output_type": "stream",
          "name": "stdout",
          "text": [
            "Array setelah menghapus elemen 25:  [10, 20, 30, 40, 50, 60]\n",
            "Array setelah menghapus elemen pada indeks 2: [10, 20, 40, 50, 60]\n"
          ]
        }
      ]
    },
    {
      "cell_type": "code",
      "source": [
        "# Mengubah elemen pada indeks 0\n",
        "angka[0] = 100\n",
        "print(\"Array setelah mengubah elemen pertama: \", angka)"
      ],
      "metadata": {
        "colab": {
          "base_uri": "https://localhost:8080/"
        },
        "id": "12c7eEz2ONuR",
        "outputId": "e47ce2b0-4b70-4b2f-ad05-f3ab61e4a8b6"
      },
      "execution_count": 29,
      "outputs": [
        {
          "output_type": "stream",
          "name": "stdout",
          "text": [
            "Array setelah mengubah elemen pertama:  [100, 20, 40, 50, 60]\n"
          ]
        }
      ]
    },
    {
      "cell_type": "markdown",
      "source": [
        "# Latihan 2\n",
        "Tambahkan nilai npm Anda (2 digit terakhir) ke dalam array angka dan hapus elemen pertama!"
      ],
      "metadata": {
        "id": "85ABL00LPSjQ"
      }
    },
    {
      "cell_type": "code",
      "source": [
        "angka.append(1) # Dua digit terakhir npm saya 01\n",
        "angka.pop(0)\n",
        "\n",
        "print(\"Isi nilai angka: \", angka)"
      ],
      "metadata": {
        "colab": {
          "base_uri": "https://localhost:8080/"
        },
        "id": "ekOWLwb9VRq5",
        "outputId": "f683370d-9799-4864-e19e-b601e502ee48"
      },
      "execution_count": 30,
      "outputs": [
        {
          "output_type": "stream",
          "name": "stdout",
          "text": [
            "Isi nilai angka:  [20, 40, 50, 60, 1]\n"
          ]
        }
      ]
    },
    {
      "cell_type": "code",
      "source": [
        "angka = [10, 20, 30, 40]\n",
        "\n",
        "for nilai in angka:\n",
        "  print(\"Nilai:\", nilai)"
      ],
      "metadata": {
        "colab": {
          "base_uri": "https://localhost:8080/"
        },
        "id": "cmv8OAjaPetg",
        "outputId": "9febac03-8f6e-4e0d-b294-db3e8cf5bc32"
      },
      "execution_count": 31,
      "outputs": [
        {
          "output_type": "stream",
          "name": "stdout",
          "text": [
            "Nilai: 10\n",
            "Nilai: 20\n",
            "Nilai: 30\n",
            "Nilai: 40\n"
          ]
        }
      ]
    },
    {
      "cell_type": "markdown",
      "source": [
        "# Latihan 3\n",
        "Buat program untuk menampilkan semua nama Fakultas di Untidar dengan array dan perulangan"
      ],
      "metadata": {
        "id": "hyz3WacIPrPQ"
      }
    },
    {
      "cell_type": "code",
      "source": [
        "fakultasUntidar = [\n",
        "    \"Teknik\",\n",
        "    \"Keguruan dan Pendidikan\",\n",
        "    \"Ilmu Politik\",\n",
        "    \"Ekonomi\",\n",
        "    \"Pertanian\"\n",
        "]\n",
        "\n",
        "for fakultas in fakultasUntidar:\n",
        "  print(\"Fakultas: \", fakultas)"
      ],
      "metadata": {
        "colab": {
          "base_uri": "https://localhost:8080/"
        },
        "id": "40FHMOH8Wl8x",
        "outputId": "6901490f-b107-48fa-a755-dff986fe6139"
      },
      "execution_count": 32,
      "outputs": [
        {
          "output_type": "stream",
          "name": "stdout",
          "text": [
            "Fakultas:  Teknik\n",
            "Fakultas:  Keguruan dan Pendidikan\n",
            "Fakultas:  Ilmu Politik\n",
            "Fakultas:  Ekonomi\n",
            "Fakultas:  Pertanian\n"
          ]
        }
      ]
    },
    {
      "cell_type": "code",
      "source": [
        "angka = [10,20,30,40]\n",
        "\n",
        "print(\"Jumlah total:\", sum(angka))\n",
        "print(\"Nilai maksimum:\", max(angka))\n",
        "print(\"Nilai minimum:\", min(angka))"
      ],
      "metadata": {
        "colab": {
          "base_uri": "https://localhost:8080/"
        },
        "id": "tsTO-FpiPs8B",
        "outputId": "50f37277-e4b9-4aba-bf1a-633533a93611"
      },
      "execution_count": 33,
      "outputs": [
        {
          "output_type": "stream",
          "name": "stdout",
          "text": [
            "Jumlah total: 100\n",
            "Nilai maksimum: 40\n",
            "Nilai minimum: 10\n"
          ]
        }
      ]
    },
    {
      "cell_type": "markdown",
      "source": [
        "# Latihan 4\n",
        "Buatlah array yang berisi harga barang dan hitung jumlah elemen dari array tersebut"
      ],
      "metadata": {
        "id": "V2uH6qrqQAHA"
      }
    },
    {
      "cell_type": "code",
      "source": [
        "hargaBarang = [10000, 2000, 3000, 40000]\n",
        "\n",
        "print(\"Jumlah total harga barang: \", sum(hargaBarang))\n",
        "print(\"Jumlah elemen harga barang: \", len(hargaBarang))"
      ],
      "metadata": {
        "colab": {
          "base_uri": "https://localhost:8080/"
        },
        "id": "WwY4EB9lXsHp",
        "outputId": "2b8e036a-70e9-4b5f-b6ea-4073c5ad547e"
      },
      "execution_count": 34,
      "outputs": [
        {
          "output_type": "stream",
          "name": "stdout",
          "text": [
            "Jumlah total harga barang:  55000\n",
            "Jumlah elemen harga barang:  4\n"
          ]
        }
      ]
    },
    {
      "cell_type": "code",
      "source": [
        "# Deklarasi array 2D\n",
        "matriks = [\n",
        "    [1,2,3],\n",
        "    [4,5,6],\n",
        "    [7,8,9]\n",
        "]\n",
        "\n",
        "# Menampilkan isi array 2D\n",
        "print(\"Isi array 2D:\")\n",
        "for baris in matriks:\n",
        "  print(baris)"
      ],
      "metadata": {
        "colab": {
          "base_uri": "https://localhost:8080/"
        },
        "id": "LYS7HiTdQCPg",
        "outputId": "ce402302-3aa0-45c5-b6bb-1a86f3518b98"
      },
      "execution_count": 35,
      "outputs": [
        {
          "output_type": "stream",
          "name": "stdout",
          "text": [
            "Isi array 2D:\n",
            "[1, 2, 3]\n",
            "[4, 5, 6]\n",
            "[7, 8, 9]\n"
          ]
        }
      ]
    },
    {
      "cell_type": "markdown",
      "source": [
        "# Latihan 5\n",
        "Buatlah array 2D yang berisi 3 baris dan 4 kolom, lalu tampilkan isi array tersebut menggunakan perulangan!"
      ],
      "metadata": {
        "id": "FUMZZyNBQjcg"
      }
    },
    {
      "cell_type": "code",
      "source": [
        "data = [\n",
        "    [1, 2, 3, 4],\n",
        "    [5, 6, 7, 8],\n",
        "    [9, 10, 11, 12]\n",
        "]\n",
        "data"
      ],
      "metadata": {
        "colab": {
          "base_uri": "https://localhost:8080/"
        },
        "id": "kLzRURkjYcEq",
        "outputId": "4d1bdb6e-8b2d-4c31-b46f-f96a79eaa00b"
      },
      "execution_count": 36,
      "outputs": [
        {
          "output_type": "execute_result",
          "data": {
            "text/plain": [
              "[[1, 2, 3, 4], [5, 6, 7, 8], [9, 10, 11, 12]]"
            ]
          },
          "metadata": {},
          "execution_count": 36
        }
      ]
    },
    {
      "cell_type": "code",
      "source": [
        "# Mengakses elemen pada baris ke-1, kolom ke-2 (indeks [0][1])\n",
        "print(\"Elemen pada baris 1, kolom 2: \", matriks[0][1])\n",
        "\n",
        "# Mengakses elemen terakhir (baris ke-3, kolom ke-3)\n",
        "print(\"Elemen terakhir: \", matriks[-1][-1])"
      ],
      "metadata": {
        "colab": {
          "base_uri": "https://localhost:8080/"
        },
        "id": "KTpQ1qVkQk1A",
        "outputId": "da08229a-a0ce-4c54-f786-34a1f01cf08b"
      },
      "execution_count": 37,
      "outputs": [
        {
          "output_type": "stream",
          "name": "stdout",
          "text": [
            "Elemen pada baris 1, kolom 2:  2\n",
            "Elemen terakhir:  9\n"
          ]
        }
      ]
    },
    {
      "cell_type": "markdown",
      "source": [
        "# Latihan 6\n",
        "Akses elemen pada baris 2 kolom 4 dari array 2 dimensi yang telah adana buat pada latihan 5"
      ],
      "metadata": {
        "id": "l7o6ZlCMRJ2Q"
      }
    },
    {
      "cell_type": "code",
      "source": [
        "print(\"Elemen baris ke-2 kolom ke-4: \", data[1][3]) # Indeks array mulai dari 0"
      ],
      "metadata": {
        "colab": {
          "base_uri": "https://localhost:8080/"
        },
        "id": "juZgAjnOZbua",
        "outputId": "1cf19b6f-696f-4275-9437-8e150e29b6b7"
      },
      "execution_count": 38,
      "outputs": [
        {
          "output_type": "stream",
          "name": "stdout",
          "text": [
            "Elemen baris ke-2 kolom ke-4:  8\n"
          ]
        }
      ]
    },
    {
      "cell_type": "code",
      "source": [
        "# Menambahkan baris baru\n",
        "matriks.append([10, 11, 12])\n",
        "print(\"Array setelah menambahkan baris baru: \", matriks)\n",
        "\n",
        "# Menambahkan elemen pada baris ke-2\n",
        "matriks[1].append(99)\n",
        "print(\"Array setelah menambahkan elemen di baris ke-2: \", matriks)"
      ],
      "metadata": {
        "colab": {
          "base_uri": "https://localhost:8080/"
        },
        "id": "udsSnLtXRLiI",
        "outputId": "f90d8548-a0d2-469f-c980-0ded68e2791c"
      },
      "execution_count": 39,
      "outputs": [
        {
          "output_type": "stream",
          "name": "stdout",
          "text": [
            "Array setelah menambahkan baris baru:  [[1, 2, 3], [4, 5, 6], [7, 8, 9], [10, 11, 12]]\n",
            "Array setelah menambahkan elemen di baris ke-2:  [[1, 2, 3], [4, 5, 6, 99], [7, 8, 9], [10, 11, 12]]\n"
          ]
        }
      ]
    },
    {
      "cell_type": "markdown",
      "source": [
        "# Latihan 7\n",
        "Tambahkan baris baru yang berisi tanggal lahir, bulan lahir, 2 digit awal tahun lahir, dan digit terakhir tahun lahir anda, dan tampilkan dalam bentuk baris dan kolom"
      ],
      "metadata": {
        "id": "BN0-llTERnwp"
      }
    },
    {
      "cell_type": "code",
      "source": [
        "matriks.append([7, 7, 20, 6])\n",
        "print(\"Menampilkan dalam bentuk baris dan kolom: \", matriks)"
      ],
      "metadata": {
        "colab": {
          "base_uri": "https://localhost:8080/"
        },
        "id": "64VQYbxQaKWD",
        "outputId": "3551c96d-a46e-453f-b779-1e68b2c7ec46"
      },
      "execution_count": 40,
      "outputs": [
        {
          "output_type": "stream",
          "name": "stdout",
          "text": [
            "Menampilkan dalam bentuk baris dan kolom:  [[1, 2, 3], [4, 5, 6, 99], [7, 8, 9], [10, 11, 12], [7, 7, 20, 6]]\n"
          ]
        }
      ]
    },
    {
      "cell_type": "code",
      "source": [
        "# Menghapus elemen tertentu dari baris ke-1\n",
        "matriks[0].remove(2)\n",
        "print(\"Array setelah menghapus elemen 2 dari baris pertama:\", matriks)\n",
        "\n",
        "# Menghapus elemen pada indeks tertentu dari baris ke-2\n",
        "matriks[1].pop(1)\n",
        "print(\"Array setelah menghapus elemen indeks ke-1 dari baris ke-2:\", matriks)"
      ],
      "metadata": {
        "colab": {
          "base_uri": "https://localhost:8080/"
        },
        "id": "uI4t3Xmwau_x",
        "outputId": "9d2f0ed6-ff36-4513-c0c8-365e6b47b9b2"
      },
      "execution_count": 41,
      "outputs": [
        {
          "output_type": "stream",
          "name": "stdout",
          "text": [
            "Array setelah menghapus elemen 2 dari baris pertama: [[1, 3], [4, 5, 6, 99], [7, 8, 9], [10, 11, 12], [7, 7, 20, 6]]\n",
            "Array setelah menghapus elemen indeks ke-1 dari baris ke-2: [[1, 3], [4, 6, 99], [7, 8, 9], [10, 11, 12], [7, 7, 20, 6]]\n"
          ]
        }
      ]
    },
    {
      "cell_type": "markdown",
      "source": [
        "# Latihan 8\n",
        "Modifikasilah array pada latihan sebelumnya untuk menghapus elemen ke-3 dari baris terakhir"
      ],
      "metadata": {
        "id": "vlnnnKhVbImZ"
      }
    },
    {
      "cell_type": "code",
      "source": [
        "matriks[-1].pop(2) # Menghapus elemen ke-3 yaitu indeks ke 2 karena indeks mulai dari 0\n",
        "\n",
        "print(\"Array setelah menghapus elemen ke-3 dari baris terakhir:\", matriks)"
      ],
      "metadata": {
        "colab": {
          "base_uri": "https://localhost:8080/"
        },
        "id": "tPgiBt5hbIJK",
        "outputId": "a4107d19-c3ef-487c-cd8c-64ea1f69e519"
      },
      "execution_count": 42,
      "outputs": [
        {
          "output_type": "stream",
          "name": "stdout",
          "text": [
            "Array setelah menghapus elemen ke-3 dari baris terakhir: [[1, 3], [4, 6, 99], [7, 8, 9], [10, 11, 12], [7, 7, 6]]\n"
          ]
        }
      ]
    },
    {
      "cell_type": "code",
      "source": [
        "# Mengubah elemen pada baris ke-3, kolom ke-2\n",
        "matriks[2][1] = 88\n",
        "print(\"Array setelah mengubah elemen baris ke-3, kolom ke-2:\", matriks)"
      ],
      "metadata": {
        "colab": {
          "base_uri": "https://localhost:8080/"
        },
        "id": "X2EoQ3fTbnz5",
        "outputId": "7d35f193-15b0-4ba2-8b9f-24f0183556ea"
      },
      "execution_count": 43,
      "outputs": [
        {
          "output_type": "stream",
          "name": "stdout",
          "text": [
            "Array setelah mengubah elemen baris ke-3, kolom ke-2: [[1, 3], [4, 6, 99], [7, 88, 9], [10, 11, 12], [7, 7, 6]]\n"
          ]
        }
      ]
    },
    {
      "cell_type": "markdown",
      "source": [
        "# Latihan 9\n",
        "Ubah elemen pada baris terakhir kolom terakhir dengan tanggal hari ini!"
      ],
      "metadata": {
        "id": "BCZcRrQab14R"
      }
    },
    {
      "cell_type": "code",
      "source": [
        "matriks[-1][-1] = 14 # Sekarang tanggal 14\n",
        "print(\"Array setelah mengubah elemen baris terakhir kolom terakhir:\", matriks)"
      ],
      "metadata": {
        "id": "tEqUXDfAb5_p",
        "colab": {
          "base_uri": "https://localhost:8080/"
        },
        "outputId": "e866d539-4309-41f1-abd2-d9cf089fb77e"
      },
      "execution_count": 44,
      "outputs": [
        {
          "output_type": "stream",
          "name": "stdout",
          "text": [
            "Array setelah mengubah elemen baris terakhir kolom terakhir: [[1, 3], [4, 6, 99], [7, 88, 9], [10, 11, 12], [7, 7, 14]]\n"
          ]
        }
      ]
    },
    {
      "cell_type": "code",
      "source": [
        "belanja = [\"Beras\", \"Gula\", \"Minyak\"]\n",
        "belanja.append(\"Teh\")\n",
        "belanja.remove(\"Gula\")\n",
        "print(\"Daftar belanja terbaru:\", belanja)"
      ],
      "metadata": {
        "colab": {
          "base_uri": "https://localhost:8080/"
        },
        "id": "4up6vZrRb3OR",
        "outputId": "adb909f2-34ab-4bea-bad0-da49c503fa67"
      },
      "execution_count": 45,
      "outputs": [
        {
          "output_type": "stream",
          "name": "stdout",
          "text": [
            "Daftar belanja terbaru: ['Beras', 'Minyak', 'Teh']\n"
          ]
        }
      ]
    },
    {
      "cell_type": "markdown",
      "source": [
        "# Latihan 10\n",
        "Buat daftar belanja Anda sendiri dan modifikasi isinya"
      ],
      "metadata": {
        "id": "TzHFcusKcdvJ"
      }
    },
    {
      "cell_type": "code",
      "source": [
        "belanjaSendiri = [\"Indomie Kari Ayam\", \"Indomie Rasa Seblak\", \"Indomie Rendang\"]\n",
        "belanjaSendiri.remove(\"Indomie Rendang\") # Hujan hujan enaknya yang kuah\n",
        "belanjaSendiri.append(\"Indomie Soto\")\n",
        "print(\"Daftar belanja saya sendiri serta sudah di modifikasi isinya: \", belanjaSendiri)"
      ],
      "metadata": {
        "colab": {
          "base_uri": "https://localhost:8080/"
        },
        "id": "WmY_QlRmcdkR",
        "outputId": "215565f7-f68f-4bf3-f2e2-f8d6186d48df"
      },
      "execution_count": 46,
      "outputs": [
        {
          "output_type": "stream",
          "name": "stdout",
          "text": [
            "Daftar belanja saya sendiri serta sudah di modifikasi isinya:  ['Indomie Kari Ayam', 'Indomie Rasa Seblak', 'Indomie Soto']\n"
          ]
        }
      ]
    }
  ]
}