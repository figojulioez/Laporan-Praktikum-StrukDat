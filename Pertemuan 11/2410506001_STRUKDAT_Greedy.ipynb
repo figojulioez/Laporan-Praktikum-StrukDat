{
  "nbformat": 4,
  "nbformat_minor": 0,
  "metadata": {
    "colab": {
      "provenance": [],
      "authorship_tag": "ABX9TyPJQii9rIEE7rmRtyNdnWWH",
      "include_colab_link": true
    },
    "kernelspec": {
      "name": "python3",
      "display_name": "Python 3"
    },
    "language_info": {
      "name": "python"
    }
  },
  "cells": [
    {
      "cell_type": "markdown",
      "metadata": {
        "id": "view-in-github",
        "colab_type": "text"
      },
      "source": [
        "<a href=\"https://colab.research.google.com/github/figojulioez/Laporan-Praktikum-StrukDat/blob/main/Pertemuan%2011/2410506001_STRUKDAT_Greedy.ipynb\" target=\"_parent\"><img src=\"https://colab.research.google.com/assets/colab-badge.svg\" alt=\"Open In Colab\"/></a>"
      ]
    },
    {
      "cell_type": "markdown",
      "source": [
        "## Implementasi Greedy pada solusi pencarian kembalian terbaik"
      ],
      "metadata": {
        "id": "_axurnuu1aia"
      }
    },
    {
      "cell_type": "code",
      "execution_count": null,
      "metadata": {
        "colab": {
          "base_uri": "https://localhost:8080/"
        },
        "id": "s0CZ3JUOsjTx",
        "outputId": "a28361af-22dc-4a4a-c009-a90e75faaf17"
      },
      "outputs": [
        {
          "output_type": "stream",
          "name": "stdout",
          "text": [
            "Koin yang digunakan: [25, 25, 5, 1, 1]\n"
          ]
        }
      ],
      "source": [
        "# membuat sebuah fungsi untuk mencari jumlah koin terbaik untuk pengembalian\n",
        "# fungsi bernama coing_charge_greedy dengan parameter ammount untuk menyimpan jumlah kembalian yang di cari dan coins berisi kumpulan koin yang akan dikombinasikan untuk mencari ammount\n",
        "def coin_change_greedy(amount, coins):\n",
        "  # mengurutkan koin terlebih dahulu (Takut datanya acak)\n",
        "  # Pengurutan dimulai dari yang terbesar Contoh [1, 3, 2] menjadi [3, 2, 1]\n",
        "    coins.sort(reverse=True)\n",
        "\n",
        "    # sebuah variabel yang nantinya akan menyimpan solusi terbaik untuk mengembalikan uang koin\n",
        "    result = []\n",
        "\n",
        "    # melakukan loop untuk setiap coins\n",
        "    for coin in coins:\n",
        "\n",
        "      # Perulangan akan terus terjadi jikalau nilai dari coint lebih kecil dari ammount\n",
        "        while amount >= coin:\n",
        "          # mengurangi nilai dari ammount dengan jumlah nominal koin yang dipilih\n",
        "            amount -= coin\n",
        "\n",
        "            # lalu menambahkan jumlah nominal yang dipilih kedalam list result\n",
        "            result.append(coin)\n",
        "\n",
        "    # mengembalikan result\n",
        "    return result\n",
        "\n",
        "# Contoh penggunaan\n",
        "amount = 57\n",
        "coins = [25, 10, 5, 1]\n",
        "change = coin_change_greedy(amount, coins)\n",
        "print(\"Koin yang digunakan:\", change)\n"
      ]
    },
    {
      "cell_type": "markdown",
      "source": [
        "# Implementasi Greedy pada Fractional KnapSack"
      ],
      "metadata": {
        "id": "BPoW9UiU6wkU"
      }
    },
    {
      "cell_type": "code",
      "source": [
        "# membuat sebuah fungsi untuk mencari solusi barang yang bisa dibawa\n",
        "# fungsi bernama fractional_knapsack dengan parameter items menyimpan daftar barang dan capcity ukuran maksimal barang yang dibawa\n",
        "def fractional_knapsack(items, capacity):\n",
        "    # items = list of tuples (value, weight)\n",
        "    # items akan menyimpan sebuah nilai yang diurutkan dari yang terbesar dimana rasio pengurutannya adalah sebuah tupple dengan rasio value/weigh atau x[0] / x[1]\n",
        "    items = sorted(items, key=lambda x: x[0]/x[1], reverse=True)\n",
        "    # variabel yang berguna menyimpan nilai\n",
        "    total_value = 0.0\n",
        "    # melakukan looping pada isi items\n",
        "    for value, weight in items:\n",
        "\n",
        "        # jika kapasitasnya saat ini masih lebih besar dari bobot benda\n",
        "        if capacity >= weight:\n",
        "            # mengurangi kapasitas dengan dikurang bobot benda artinya barang sudah masuk ransel\n",
        "            capacity -= weight\n",
        "            # lalu menambah value yang bisa dibawa\n",
        "            total_value += value\n",
        "        # jika ternata bohot lebih besar dari kapasitas saat ini maka akan membawa separuh dari benda tersebut\n",
        "        else:\n",
        "            # jumlah separuh yang dibawa adalah nilai saat ini dikalikan dengan kapasita/bobot\n",
        "\n",
        "            total_value += value * (capacity / weight)\n",
        "            # keluar dari looping\n",
        "            break\n",
        "    return total_value\n",
        "\n",
        "# Contoh penggunaan\n",
        "items = [(60, 10), (100, 20), (120, 30)]  # (nilai, berat)\n",
        "capacity = 50\n",
        "max_value = fractional_knapsack(items, capacity)\n",
        "print(\"Nilai maksimum yang dapat dibawa:\", max_value)\n"
      ],
      "metadata": {
        "colab": {
          "base_uri": "https://localhost:8080/"
        },
        "id": "iKEr5U6x7CfK",
        "outputId": "0a706ba9-7f8a-403f-f3d5-439476b87947"
      },
      "execution_count": null,
      "outputs": [
        {
          "output_type": "stream",
          "name": "stdout",
          "text": [
            "Nilai maksimum yang dapat dibawa: 240.0\n"
          ]
        }
      ]
    },
    {
      "cell_type": "markdown",
      "source": [
        "## Algoritma Kruskal"
      ],
      "metadata": {
        "id": "O5CToTaRKPCs"
      }
    },
    {
      "cell_type": "code",
      "source": [
        "# membuat sebuah function untuk algoritma kruskal nantinya\n",
        "# function bernama kruskal_mst dengan parameter edges untuk menyimpan nilai dari node1, node2, dan bobot sedangkan n_nodes menyimpan jumlah dari nodenya\n",
        "def kruskal_mst(edges, n_nodes):\n",
        "  # pada mula mula setiap node berdiri sendiri atau tidak dalam satu komponen\n",
        "    parent = [i for i in range(n_nodes)]\n",
        "\n",
        "    # function find untuk melihat apakah sebuah node berada dalam satu komponen\n",
        "    def find(x):\n",
        "        # akan melakukan loop sampai nilai dari parent[x] sama dengan nilai dari x\n",
        "        while parent[x] != x:\n",
        "          # jika ternyata tidak sama maka nilai dari x adalah parent[x]\n",
        "            x = parent[x]\n",
        "        # mengembalikan nilai x jika sudah ditemukan akarnya\n",
        "        return x\n",
        "\n",
        "    # function union berfungsi menyatukan node atau menghubungkan node\n",
        "    def union(x, y):\n",
        "        # menemukan akar dari x\n",
        "        root_x = find(x)\n",
        "        # menemukan akar dari y\n",
        "        root_y = find(y)\n",
        "\n",
        "        # jika ternyata akar dari x dan akar dari y tidak sama maka dapat dihubungkan karena tidak menyebabkan siklus\n",
        "        if root_x != root_y:\n",
        "            # menghubungkan akar y dengan akar x\n",
        "            parent[root_y] = root_x\n",
        "            return True\n",
        "        return False\n",
        "\n",
        "    # mengurutkan edges bedasarkan bobot\n",
        "    edges.sort(key=lambda x: x[2])\n",
        "    # total bobotnya mula mula 4\n",
        "    total_weight = 0\n",
        "\n",
        "    # melakukan loop pada tuple yang berada didalam edges\n",
        "    for u, v, weight in edges:\n",
        "      # cek apakah sudah dalam satu komponen pada node1 dan node2\n",
        "        if union(u, v):\n",
        "            # jika belum dalam satu komponen maka akan dihubungkan sembari menghitung jumlah bobot\n",
        "            total_weight += weight\n",
        "\n",
        "    # mengembalikan jumlah bobot\n",
        "    return total_weight\n",
        "\n",
        "# edges: (node1, node2, weight), nodes are represented by integers\n",
        "edges = [(0, 1, 2), (0, 2, 3), (1, 2, 1), (1, 3, 1), (2, 3, 4)]\n",
        "print(\"Total bobot MST (Kruskal):\", kruskal_mst(edges, 4))\n",
        "\n"
      ],
      "metadata": {
        "colab": {
          "base_uri": "https://localhost:8080/"
        },
        "id": "N5jLhOiKKOJH",
        "outputId": "aac3c7f5-5f20-458f-9251-5f53bcdaaf78"
      },
      "execution_count": null,
      "outputs": [
        {
          "output_type": "stream",
          "name": "stdout",
          "text": [
            "[0, 0, 1, 1] 2 1\n",
            "[0, 0, 1, 1] 2 1\n",
            "[(1, 2, 1), (1, 3, 1), (0, 1, 2), (0, 2, 3), (2, 3, 4)]\n",
            "Total bobot MST (Kruskal): 4\n"
          ]
        }
      ]
    },
    {
      "cell_type": "markdown",
      "source": [
        "## Algoritma Prim"
      ],
      "metadata": {
        "id": "O47N2pj1AQID"
      }
    },
    {
      "cell_type": "code",
      "source": [
        "# import library heapq untuk pengurutan\n",
        "import heapq\n",
        "\n",
        "# membuat sebuah function bernama prim_mst dengan parameter graph untuk menyimpan graphnya dan start untuk mengetahui dimulai dari mana\n",
        "def prim_mst(graph, start):\n",
        "\n",
        "    # untuk memberikan informasi yang sudah dikunjungi\n",
        "    visited = set()\n",
        "\n",
        "    # min_heap akan menyimpan jalur yang akan dipilih\n",
        "    min_heap = [[0, start]]\n",
        "    total_weight = 0\n",
        "\n",
        "    # ketika isi dari min_heap masih ada\n",
        "    while min_heap:\n",
        "        # maka akan memilih jalur terpendek saat ini kemudian melaluinya\n",
        "        weight, node = heapq.heappop(min_heap)\n",
        "\n",
        "        # jika ternyata node sudah dikunjungi maka lewati perulangannya\n",
        "        if node in visited:\n",
        "            continue\n",
        "\n",
        "        # tambahkan node saat ini pada set visited untuk mengetahui node apa saja yang sudah dikunjungi\n",
        "        visited.add(node)\n",
        "        # tambahkan bobotnya\n",
        "        total_weight += weight\n",
        "\n",
        "\n",
        "        # melakukan loop pada node yang terhubung beserta bobotnya di dalam graph\n",
        "        for neighbor, edge_weight in graph[node]:\n",
        "            # jika ternyata tetangganya belum dikunjungi\n",
        "            if neighbor not in visited:\n",
        "                # maka tambahkan ke list yang akan dikunjungi\n",
        "                heapq.heappush(min_heap, [edge_weight, neighbor])\n",
        "    # kembalikan jumlah bobot\n",
        "    return total_weight\n",
        "\n",
        "# Representasi graf: adjacency list\n",
        "graph = {\n",
        "    'A': [['B', 2], ['C', 3]],\n",
        "    'B': [['A', 2], ['C', 1], ['D', 1]],\n",
        "    'C': [['A', 3], ['B', 1], ['D', 4]],\n",
        "    'D': [['B', 1], ['C', 4]]\n",
        "}\n",
        "\n",
        "print(\"Total bobot MST (Prim):\", prim_mst(graph, 'A'))\n"
      ],
      "metadata": {
        "id": "Elm38iTRASRi"
      },
      "execution_count": null,
      "outputs": []
    }
  ]
}