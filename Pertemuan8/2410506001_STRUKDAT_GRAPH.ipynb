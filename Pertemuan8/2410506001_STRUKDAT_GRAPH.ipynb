{
  "nbformat": 4,
  "nbformat_minor": 0,
  "metadata": {
    "colab": {
      "provenance": [],
      "authorship_tag": "ABX9TyO3xvD4sgWdAorZjKKgaiWS",
      "include_colab_link": true
    },
    "kernelspec": {
      "name": "python3",
      "display_name": "Python 3"
    },
    "language_info": {
      "name": "python"
    }
  },
  "cells": [
    {
      "cell_type": "markdown",
      "metadata": {
        "id": "view-in-github",
        "colab_type": "text"
      },
      "source": [
        "<a href=\"https://colab.research.google.com/github/figojulioez/Laporan-Praktikum-StrukDat/blob/main/Pertemuan8/2410506001_STRUKDAT_GRAPH.ipynb\" target=\"_parent\"><img src=\"https://colab.research.google.com/assets/colab-badge.svg\" alt=\"Open In Colab\"/></a>"
      ]
    },
    {
      "cell_type": "markdown",
      "source": [
        "## Adjacency List"
      ],
      "metadata": {
        "id": "p9L8LNOd6bi7"
      }
    },
    {
      "cell_type": "code",
      "execution_count": null,
      "metadata": {
        "colab": {
          "base_uri": "https://localhost:8080/"
        },
        "id": "C1BecbUm4OR3",
        "outputId": "76b838ce-80a3-4df7-bd3c-61b8f1016a4e"
      },
      "outputs": [
        {
          "output_type": "stream",
          "name": "stdout",
          "text": [
            "A -> ['B', 'C']\n",
            "B -> ['A', 'D', 'E']\n",
            "C -> ['A', 'F']\n",
            "D -> ['B']\n",
            "E -> ['B', 'F']\n",
            "F -> ['C', 'E']\n"
          ]
        }
      ],
      "source": [
        "# Membuat graf tak berarah menggunakan adjacency list\n",
        "# mendefinisikan sebuah graph dalam ajacency list dimana key sebagai vertex dan isinya merupakan vertex yang terhubung tersebut\n",
        "graph = {\n",
        "    'A' : ['B', 'C'],\n",
        "    'B' : ['A', 'D', 'E'],\n",
        "    'C' : ['A', 'F'],\n",
        "    'D' : ['B'],\n",
        "    'E' : ['B', 'F'],\n",
        "    'F' : ['C', 'E']\n",
        "}\n",
        "\n",
        "# Menampilkan graf\n",
        "\n",
        "# membuat sebuah function bernama print_graph\n",
        "def print_graph(graf) :\n",
        "  # melakukan sebuah looping dari list\n",
        "  for node in graf :\n",
        "    # menampilkan list tersebut dimulai dari key dan menampikan list yang ada didalamnya\n",
        "    print(f\"{node} -> {graf[node]}\")\n",
        "\n",
        "# Memanggil fungsi\n",
        "print_graph(graph)"
      ]
    },
    {
      "cell_type": "markdown",
      "source": [
        "# Traversal pada graph dengan BFS"
      ],
      "metadata": {
        "id": "uVYVKUwHAteu"
      }
    },
    {
      "cell_type": "code",
      "source": [
        "# mengimport sebuah deque dari collections\n",
        "from collections import deque\n",
        "\n",
        "# mendefinisikan sebuah function bernama bfs dengan parameter graph (untuk graphnya) dan start (untuk dimulai dari simpul mana)\n",
        "def bfs(graph, start):\n",
        "  # mendeklarasikan sebuah variabel visited nantinya akan digunakan untuk menyimpan  vertex yang sudah dikunjungi\n",
        "  visited = set()\n",
        "\n",
        "  # mendeklarasikan sebuah variabel queue nantinya akan digunakan untuk menyimpan sementara vertex yang akan di kunjungi\n",
        "  queue = deque ([start])\n",
        "\n",
        "  # looping menggunakan while, looping akan berhenti jika nilai dari queue = null\n",
        "  while queue:\n",
        "    # mendeklarasikan variabel vertex dimana variabel ini menyimpan vertex yang saat ini sedang dikunjungi sekaligus menghapus nilai dari queue yang paling depan\n",
        "    vertex = queue.popleft()\n",
        "\n",
        "    # jika nilai dari vertex tidak ada pada variabel visited artinya belum dikunjungi\n",
        "    if vertex not in visited:\n",
        "\n",
        "      # menampilkan vertex yang saat ini dikunjungi\n",
        "      print (vertex, end=\" \")\n",
        "\n",
        "      # Jika sudah ditampilkan lalu akan ditambahkan pada visited agar mengetahui vertex apa saja yang sudah dikunjungi\n",
        "      visited.add(vertex)\n",
        "\n",
        "      # menambahkan simpul yang terhubung pada vertex yang sedang dikunjungi\n",
        "      # contoh jika dimulai dari B maka vertex seterusnya A D E\n",
        "      queue.extend([neighbor for neighbor in graph[vertex] if neighbor not in visited])\n",
        "\n",
        "# Contoh pemanggilan\n",
        "bfs(graph, 'A')"
      ],
      "metadata": {
        "colab": {
          "base_uri": "https://localhost:8080/"
        },
        "id": "T4zsoW6h8UmX",
        "outputId": "e84a1165-2cee-44c2-a20e-6af136680831"
      },
      "execution_count": null,
      "outputs": [
        {
          "output_type": "stream",
          "name": "stdout",
          "text": [
            "A B C D E F "
          ]
        }
      ]
    },
    {
      "cell_type": "markdown",
      "source": [
        "## Traversal pada graph dengan DFS"
      ],
      "metadata": {
        "id": "zlILhqTPDYac"
      }
    },
    {
      "cell_type": "code",
      "source": [
        "# Mendeklarasikan sebuah function bernama dfs dengan parameter graph, start, dan visited yang memiliki nilai default none\n",
        "def dfs(graph, start, visited=None):\n",
        "  # jika nilai dari visited none\n",
        "  if visited is None:\n",
        "    # mendeklarasikan visited dengan nilai sebuah set\n",
        "    visited = set ()\n",
        "\n",
        "  # jika nilai dari start tidak ada di dalam visited maka itu adalah vertex yang sedang dikunjungi\n",
        "  if start not in visited:\n",
        "    # menampilkan vertex yang sedang dikunjungi\n",
        "    print(start, end=\" \")\n",
        "\n",
        "    # lalu menambahkan vertex tersebut ke visited supaya kita tahu vertex tersebut sudah dikunjugi atau belum\n",
        "    visited.add(start)\n",
        "\n",
        "    # melakukan looping pada setiap vertex yang terhubung pada vertex yang saat ini di kunjungi\n",
        "    for neighbor in graph[start]:\n",
        "      # lalu memanggil graph secara rekursif dengan nilai dari argumen adalah graph, tetangga pada simpul yang saat ini, dan daftar vertex yang sudah dikunjungi\n",
        "      dfs(graph, neighbor, visited)\n",
        "\n",
        "# Contoh pemanggilan\n",
        "dfs (graph, 'A')\n"
      ],
      "metadata": {
        "colab": {
          "base_uri": "https://localhost:8080/"
        },
        "id": "Q0MoQAiqDYL8",
        "outputId": "90130ee4-2210-438f-aeb4-f429b46a943f"
      },
      "execution_count": null,
      "outputs": [
        {
          "output_type": "stream",
          "name": "stdout",
          "text": [
            "A B D E F C "
          ]
        }
      ]
    },
    {
      "cell_type": "markdown",
      "source": [
        "## Menghitung simpul pada setiap graph"
      ],
      "metadata": {
        "id": "YT1502KNn84f"
      }
    },
    {
      "cell_type": "code",
      "source": [
        "# Lengkapi fungsi untuk menghitung jumlah tetangga dari tiap simpul dalam graf\n",
        "\n",
        "# mendefinisikan sebuah function untuk menghitung graph dengan parameter graph yang digunakan untuk menyimpan graph\n",
        "def count_neighbors (graph):\n",
        "  # mendeklarasikan variabel untuk menyimpan hasil dari setiap simpul nantinya\n",
        "  result = {}\n",
        "\n",
        "  # melakukan perulangan pada setiap simpul nantinya\n",
        "  for node in graph:\n",
        "    # TODO: Hitung jumlah tetangga\n",
        "\n",
        "    # menambahkan jumlah simpul yang terhubung pada node\n",
        "    result[node] = len(graph[node])\n",
        "\n",
        "  # menampilkan hasil\n",
        "  return result\n",
        "\n",
        "# memanggil function\n",
        "print(count_neighbors(graph))"
      ],
      "metadata": {
        "colab": {
          "base_uri": "https://localhost:8080/"
        },
        "id": "Tug2B3ATstAz",
        "outputId": "14b18f0c-32b2-4308-d551-ee6428766af9"
      },
      "execution_count": null,
      "outputs": [
        {
          "output_type": "stream",
          "name": "stdout",
          "text": [
            "{'A': 2, 'B': 3, 'C': 2, 'D': 1, 'E': 2, 'F': 2}\n"
          ]
        }
      ]
    }
  ]
}