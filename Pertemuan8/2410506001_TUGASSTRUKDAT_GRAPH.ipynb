{
  "nbformat": 4,
  "nbformat_minor": 0,
  "metadata": {
    "colab": {
      "provenance": [],
      "authorship_tag": "ABX9TyN2LXBaDGjnKBCwCR5otmeq",
      "include_colab_link": true
    },
    "kernelspec": {
      "name": "python3",
      "display_name": "Python 3"
    },
    "language_info": {
      "name": "python"
    }
  },
  "cells": [
    {
      "cell_type": "markdown",
      "metadata": {
        "id": "view-in-github",
        "colab_type": "text"
      },
      "source": [
        "<a href=\"https://colab.research.google.com/github/figojulioez/Laporan-Praktikum-StrukDat/blob/main/Pertemuan8/2410506001_TUGASSTRUKDAT_GRAPH.ipynb\" target=\"_parent\"><img src=\"https://colab.research.google.com/assets/colab-badge.svg\" alt=\"Open In Colab\"/></a>"
      ]
    },
    {
      "cell_type": "markdown",
      "source": [
        "## Buatlah graf tak berarah baru dengan minimal 5 simpul dan 7 sisi, lalu tampilkan dengan fungsi print_graph.\n"
      ],
      "metadata": {
        "id": "KCPqWkqBbejk"
      }
    },
    {
      "cell_type": "code",
      "execution_count": 26,
      "metadata": {
        "colab": {
          "base_uri": "https://localhost:8080/"
        },
        "id": "-GI_R9CiaXv1",
        "outputId": "624114aa-cf78-4d9e-9f90-ea052073cb79"
      },
      "outputs": [
        {
          "output_type": "stream",
          "name": "stdout",
          "text": [
            "A -> ['B', 'F']\n",
            "B -> ['C', 'A', 'E']\n",
            "C -> ['D', 'F']\n",
            "D -> ['E']\n",
            "E -> ['F', 'B']\n",
            "F -> ['C', 'D']\n"
          ]
        }
      ],
      "source": [
        "# simpul yang dibuat\n",
        "simpul = {\n",
        "    'A' : ['B', 'F'],\n",
        "    'B' : ['C', 'A', 'E'],\n",
        "    'C' : ['D', 'F'],\n",
        "    'D' : ['E'],\n",
        "    'E' : ['F', 'B'],\n",
        "    'F' : ['C', 'D']\n",
        "}\n",
        "\n",
        "# membuat sebuah function bernama print_graph\n",
        "def print_graph(graf) :\n",
        "  # melakukan sebuah looping dari list\n",
        "  for node in graf :\n",
        "    # menampilkan list tersebut dimulai dari key dan menampikan list yang ada didalamnya\n",
        "    print(f\"{node} -> {graf[node]}\")\n",
        "\n",
        "# Memanggil fungsi\n",
        "print_graph(simpul)"
      ]
    },
    {
      "cell_type": "markdown",
      "source": [
        "## Implementasikan BFS dan DFS dari simpul awal pilihan Anda."
      ],
      "metadata": {
        "id": "bFwjCmHwby2s"
      }
    },
    {
      "cell_type": "code",
      "source": [
        "## MENGGUNAKAN BFS\n",
        "\n",
        "# mengimport sebuah deque dari collections\n",
        "from collections import deque\n",
        "\n",
        "# mendefinisikan sebuah function bernama bfs dengan parameter graph (untuk graphnya) dan start (untuk dimulai dari simpul mana)\n",
        "def bfs(graph, start):\n",
        "  # mendeklarasikan sebuah variabel visited nantinya akan digunakan untuk menyimpan  vertex yang sudah dikunjungi\n",
        "  visited = set()\n",
        "\n",
        "  # mendeklarasikan sebuah variabel queue nantinya akan digunakan untuk menyimpan sementara vertex yang akan di kunjungi\n",
        "  queue = deque ([start])\n",
        "\n",
        "  # looping menggunakan while, looping akan berhenti jika nilai dari queue = null\n",
        "  while queue:\n",
        "    # mendeklarasikan variabel vertex dimana variabel ini menyimpan vertex yang saat ini sedang dikunjungi sekaligus menghapus nilai dari queue yang paling depan\n",
        "    vertex = queue.popleft()\n",
        "\n",
        "    # jika nilai dari vertex tidak ada pada variabel visited artinya belum dikunjungi\n",
        "    if vertex not in visited:\n",
        "\n",
        "      # menampilkan vertex yang saat ini dikunjungi\n",
        "      print (vertex, end=\" \")\n",
        "\n",
        "      # Jika sudah ditampilkan lalu akan ditambahkan pada visited agar mengetahui vertex apa saja yang sudah dikunjungi\n",
        "      visited.add(vertex)\n",
        "\n",
        "      # menambahkan simpul yang terhubung pada vertex yang sedang dikunjungi\n",
        "      # contoh jika dimulai dari B maka vertex seterusnya A D E\n",
        "      queue.extend([neighbor for neighbor in graph[vertex] if neighbor not in visited])\n",
        "\n",
        "# Contoh pemanggilan\n",
        "bfs(simpul, 'A')\n",
        "\n"
      ],
      "metadata": {
        "colab": {
          "base_uri": "https://localhost:8080/"
        },
        "id": "CzrO9Xnsbtx4",
        "outputId": "3d7f9f50-917b-46ba-f185-528362033004"
      },
      "execution_count": 27,
      "outputs": [
        {
          "output_type": "stream",
          "name": "stdout",
          "text": [
            "A B F C E D "
          ]
        }
      ]
    },
    {
      "cell_type": "code",
      "source": [
        "## MENGGUNAKAN DFS\n",
        "\n",
        "# Mendeklarasikan sebuah function bernama dfs dengan parameter graph, start, dan visited yang memiliki nilai default none\n",
        "def dfs(graph, start, visited=None):\n",
        "  # jika nilai dari visited none\n",
        "  if visited is None:\n",
        "    # mendeklarasikan visited dengan nilai sebuah set\n",
        "    visited = set ()\n",
        "\n",
        "  # jika nilai dari start tidak ada di dalam visited maka itu adalah vertex yang sedang dikunjungi\n",
        "  if start not in visited:\n",
        "    # menampilkan vertex yang sedang dikunjungi\n",
        "    print(start, end=\" \")\n",
        "\n",
        "    # lalu menambahkan vertex tersebut ke visited supaya kita tahu vertex tersebut sudah dikunjugi atau belum\n",
        "    visited.add(start)\n",
        "\n",
        "    # melakukan looping pada setiap vertex yang terhubung pada vertex yang saat ini di kunjungi\n",
        "    for neighbor in graph[start]:\n",
        "      # lalu memanggil graph secara rekursif dengan nilai dari argumen adalah graph, tetangga pada simpul yang saat ini, dan daftar vertex yang sudah dikunjungi\n",
        "      dfs(graph, neighbor, visited)\n",
        "\n",
        "# Contoh pemanggilan\n",
        "dfs (simpul, 'A')"
      ],
      "metadata": {
        "colab": {
          "base_uri": "https://localhost:8080/"
        },
        "id": "V8rlywFmcReX",
        "outputId": "7d819b16-0f73-47ba-90af-50ccf58e8721"
      },
      "execution_count": 28,
      "outputs": [
        {
          "output_type": "stream",
          "name": "stdout",
          "text": [
            "A B C D E F "
          ]
        }
      ]
    },
    {
      "cell_type": "markdown",
      "source": [
        "##  Modifikasi fungsi BFS agar mengembalikan list urutan kunjungan, bukan hanya mencetak."
      ],
      "metadata": {
        "id": "Hw6sT68_Y_Ju"
      }
    },
    {
      "cell_type": "code",
      "source": [
        "## MENGGUNAKAN BFS\n",
        "\n",
        "# mengimport sebuah deque dari collections\n",
        "from collections import deque\n",
        "\n",
        "# mendefinisikan sebuah function bernama bfs dengan parameter graph (untuk graphnya) dan start (untuk dimulai dari simpul mana)\n",
        "def bfs(graph, start):\n",
        "  # mendeklarasikan sebuah variabel visited nantinya akan digunakan untuk menyimpan  vertex yang sudah dikunjungi\n",
        "\n",
        "  ## YANG TADINYA SET DIUBAH MENJADI LIST KARENA SET TIDAK BERURUTAN\n",
        "  visited = []\n",
        "\n",
        "  # mendeklarasikan sebuah variabel queue nantinya akan digunakan untuk menyimpan sementara vertex yang akan di kunjungi\n",
        "  queue = deque ([start])\n",
        "\n",
        "  # looping menggunakan while, looping akan berhenti jika nilai dari queue = null\n",
        "  while queue:\n",
        "    # mendeklarasikan variabel vertex dimana variabel ini menyimpan vertex yang saat ini sedang dikunjungi sekaligus menghapus nilai dari queue yang paling depan\n",
        "    vertex = queue.popleft()\n",
        "\n",
        "    # jika nilai dari vertex tidak ada pada variabel visited artinya belum dikunjungi\n",
        "    if vertex not in visited:\n",
        "\n",
        "      # menampilkan vertex yang saat ini dikunjungi\n",
        "      print (vertex, end=\" \")\n",
        "\n",
        "      # Jika sudah ditampilkan lalu akan ditambahkan pada visited agar mengetahui vertex apa saja yang sudah dikunjungi\n",
        "      visited.append(vertex)\n",
        "      # menambahkan simpul yang terhubung pada vertex yang sedang dikunjungi\n",
        "      # contoh jika dimulai dari B maka vertex seterusnya A D E\n",
        "      queue.extend([neighbor for neighbor in graph[vertex] if neighbor not in visited])\n",
        "\n",
        "  print(\"\")\n",
        "  # variabel untuk menghitung urutan ke berapa\n",
        "  i = 1\n",
        "  # looping perulangan array visited karena visited nya bertipe tidak lagi bertipe data set tetapi bertipe data list maka dia berurutan\n",
        "  for _ in visited :\n",
        "    # menampilkan urutanya dengan sesuai\n",
        "    print(f\"List urutan kunjungan ke-{i} yaitu {_}\")\n",
        "    i += 1\n",
        "\n",
        "  # untuk mengembalikan list urutan kunjungan\n",
        "  return visited\n",
        "# Contoh pemanggilan\n",
        "bfs(simpul, 'A')\n"
      ],
      "metadata": {
        "colab": {
          "base_uri": "https://localhost:8080/"
        },
        "id": "L2fRygDXbyVw",
        "outputId": "d6c4092f-9548-45bd-946d-d4bbafd51a8e"
      },
      "execution_count": 29,
      "outputs": [
        {
          "output_type": "stream",
          "name": "stdout",
          "text": [
            "A B F C E D \n",
            "List urutan kunjungan ke-1 yaitu A\n",
            "List urutan kunjungan ke-2 yaitu B\n",
            "List urutan kunjungan ke-3 yaitu F\n",
            "List urutan kunjungan ke-4 yaitu C\n",
            "List urutan kunjungan ke-5 yaitu E\n",
            "List urutan kunjungan ke-6 yaitu D\n"
          ]
        },
        {
          "output_type": "execute_result",
          "data": {
            "text/plain": [
              "['A', 'B', 'F', 'C', 'E', 'D']"
            ]
          },
          "metadata": {},
          "execution_count": 29
        }
      ]
    },
    {
      "cell_type": "markdown",
      "source": [
        "## Buat fungsi find_path(graph, start, end) yang mengembalikan satu jalur dari start ke end jika ada, menggunakan DFS."
      ],
      "metadata": {
        "id": "IkXom1hdd6BF"
      }
    },
    {
      "cell_type": "code",
      "source": [
        "# mendeklarasikan function find_path yang didalamya merupakan function dfs\n",
        "def find_path(graph, start, end=None) :\n",
        "  # Mendeklarasikan sebuah function bernama dfs dengan parameter graph, start, dan visited yang memiliki nilai default none\n",
        "  def dfs(graph, current, visited=None):\n",
        "    # jika nilai dari visited none\n",
        "    if visited is None:\n",
        "      # mendeklarasikan visited dengan nilai sebuah array karena set tidak berurutan\n",
        "      visited = []\n",
        "\n",
        "\n",
        "    # TAMBAHKAN SATU KONDISI LAGI YAITU JIKA nilai visited SAMA DENGAN END\n",
        "    if end in visited :\n",
        "      # maka berhentikan fungsi tersebut dengan mengembalikan visited seadanya\n",
        "      return visited;\n",
        "\n",
        "\n",
        "    # jika nilai dari start tidak ada di dalam visited maka itu adalah vertex yang sedang dikunjungi\n",
        "    if current not in visited:\n",
        "      # menampilkan vertex yang sedang dikunjungi\n",
        "      print(current, end=\" \")\n",
        "\n",
        "      # lalu menambahkan vertex tersebut ke visited supaya kita tahu vertex tersebut sudah dikunjugi atau belum\n",
        "      visited.append(current)\n",
        "\n",
        "      # melakukan looping pada setiap vertex yang terhubung pada vertex yang saat ini di kunjungi\n",
        "      for neighbor in graph[current]:\n",
        "        # lalu memanggil graph secara rekursif dengan nilai dari argumen adalah graph, tetangga pada simpul yang saat ini, dan daftar vertex yang sudah dikunjungi\n",
        "        dfs(graph, neighbor, visited)\n",
        "\n",
        "    return visited\n",
        "  # memanggil fungsi\n",
        "  return dfs (simpul, start)\n",
        "\n",
        "# panggil fungsi untuk menemukan simpul dari A sampai C\n",
        "find_path(simpul, 'A', 'C')"
      ],
      "metadata": {
        "colab": {
          "base_uri": "https://localhost:8080/"
        },
        "id": "3Xro22A9eQUU",
        "outputId": "873680cf-61b0-4b7b-d20d-f67f447b9a25"
      },
      "execution_count": 30,
      "outputs": [
        {
          "output_type": "stream",
          "name": "stdout",
          "text": [
            "A B C "
          ]
        },
        {
          "output_type": "execute_result",
          "data": {
            "text/plain": [
              "['A', 'B', 'C']"
            ]
          },
          "metadata": {},
          "execution_count": 30
        }
      ]
    },
    {
      "cell_type": "markdown",
      "source": [
        "## Tambahkan fungsi is_connected(graph) untuk mengecek apakah semua simpul dalam graf saling terhubung (gunakan kombinasi DFS + logika).\n"
      ],
      "metadata": {
        "id": "mcQhYEj3iWkD"
      }
    },
    {
      "cell_type": "code",
      "source": [
        "# membuat function bernama is_connected\n",
        "def is_connected(graph) :\n",
        "  # membuat variabel visited untuk mengetahui apa saja simpul yang dikunjungi oleh dfs\n",
        "  # dibuat list supaya saat dijadikan argument nilai referensi memorinya akan kesimpan\n",
        "  # yang artinya perubahan yang terjadi pada variabel visited di dfs akan mempengaruhi variabel visited ini\n",
        "  visited = []\n",
        "\n",
        "    # Mendeklarasikan sebuah function bernama dfs dengan parameter graph, start, dan visited yang memiliki nilai default none\n",
        "  def dfs(graph, start, visited=None):\n",
        "    # jika nilai dari start tidak ada di dalam visited maka itu adalah vertex yang sedang dikunjungi\n",
        "    if start not in visited:\n",
        "      # menampilkan vertex yang sedang dikunjungi\n",
        "      print(start, end=\" \")\n",
        "\n",
        "      # lalu menambahkan vertex tersebut ke visited supaya kita tahu vertex tersebut sudah dikunjugi atau belum\n",
        "      visited.append(start)\n",
        "\n",
        "      # melakukan looping pada setiap vertex yang terhubung pada vertex yang saat ini di kunjungi\n",
        "      for neighbor in graph[start]:\n",
        "        # lalu memanggil graph secara rekursif dengan nilai dari argumen adalah graph, tetangga pada simpul yang saat ini, dan daftar vertex yang sudah dikunjungi\n",
        "        dfs(graph, neighbor, visited)\n",
        "\n",
        "\n",
        "  # parameter pertama mengirim graphnya dan parameter kedua menggunakan simpul pertama sebagai awal\n",
        "  # untuk paramter kedua karena nama dari simpulnya bisa saja berubah maka simpul yang dijadikan patokan awal sebagai start untuk menelusuri adalah simpul yang pertama pada graph\n",
        "  dfs(graph, [_ for _ in graph][0], visited)\n",
        "  print('')\n",
        "\n",
        "  # variabel yang berfungsi untuk mengecek apakah graph saling terkoneksi atau tida\n",
        "  cek = True\n",
        "\n",
        "  # lakukan looping satu persatu pada setiap simpul di graph lalu cek apakah nilainya terdapat pada visited atau tidak\n",
        "  for _ in graph :\n",
        "    # jika nilai dari simpul ada pada variabel visited maka dia terkoneksi\n",
        "    if _ in visited :\n",
        "      print(f\"Simpul {_} terhubung\")\n",
        "    # jika tidak maka dia tidak terkoneksi\n",
        "    else :\n",
        "      print(f\"Simpul {_} tidak terhubung\")\n",
        "      cek = False\n",
        "\n",
        "  return cek\n",
        "\n",
        "## coba pad simpul yang terhubung\n",
        "is_connected(simpul)\n",
        "\n",
        "simpul2 = {\n",
        "    'A' : ['B', 'F'],\n",
        "    'B' : ['A', 'F'],\n",
        "    'C' : ['D', 'F'],\n",
        "    'D' : ['E'],\n",
        "    'E' : ['F', 'B'],\n",
        "    'F' : ['A', 'B']\n",
        "}\n",
        "\n",
        "print(\"\")\n",
        "# mencoba pada simpul yang tak terhubung\n",
        "is_connected(simpul2)"
      ],
      "metadata": {
        "colab": {
          "base_uri": "https://localhost:8080/"
        },
        "id": "Dd4kDfR0hbU8",
        "outputId": "37d01ea3-f939-4f5f-af3a-910564d37133"
      },
      "execution_count": 31,
      "outputs": [
        {
          "output_type": "stream",
          "name": "stdout",
          "text": [
            "A B C D E F \n",
            "Simpul A terhubung\n",
            "Simpul B terhubung\n",
            "Simpul C terhubung\n",
            "Simpul D terhubung\n",
            "Simpul E terhubung\n",
            "Simpul F terhubung\n",
            "\n",
            "A B F \n",
            "Simpul A terhubung\n",
            "Simpul B terhubung\n",
            "Simpul C tidak terhubung\n",
            "Simpul D tidak terhubung\n",
            "Simpul E tidak terhubung\n",
            "Simpul F terhubung\n"
          ]
        },
        {
          "output_type": "execute_result",
          "data": {
            "text/plain": [
              "False"
            ]
          },
          "metadata": {},
          "execution_count": 31
        }
      ]
    }
  ]
}