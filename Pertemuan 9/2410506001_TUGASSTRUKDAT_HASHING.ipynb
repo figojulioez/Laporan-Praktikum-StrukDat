{
  "nbformat": 4,
  "nbformat_minor": 0,
  "metadata": {
    "colab": {
      "provenance": [],
      "authorship_tag": "ABX9TyOTvbtsIVSIkY4J6SDU4iHk",
      "include_colab_link": true
    },
    "kernelspec": {
      "name": "python3",
      "display_name": "Python 3"
    },
    "language_info": {
      "name": "python"
    }
  },
  "cells": [
    {
      "cell_type": "markdown",
      "metadata": {
        "id": "view-in-github",
        "colab_type": "text"
      },
      "source": [
        "<a href=\"https://colab.research.google.com/github/figojulioez/Laporan-Praktikum-StrukDat/blob/main/Pertemuan%209/2410506001_TUGASSTRUKDAT_HASHING.ipynb\" target=\"_parent\"><img src=\"https://colab.research.google.com/assets/colab-badge.svg\" alt=\"Open In Colab\"/></a>"
      ]
    },
    {
      "cell_type": "markdown",
      "source": [
        "## 1. Eksperimen Sederhana Linear Probing\n"
      ],
      "metadata": {
        "id": "Ji3HwVjvLbVD"
      }
    },
    {
      "cell_type": "code",
      "execution_count": null,
      "metadata": {
        "colab": {
          "base_uri": "https://localhost:8080/"
        },
        "id": "kf3K6YaLJuou",
        "outputId": "4b108758-ba99-42af-c025-267bf4c768a3"
      },
      "outputs": [
        {
          "output_type": "stream",
          "name": "stdout",
          "text": [
            "Proses memasukan data\n",
            "\n",
            "[None, None, None, None, ('A', 10)] Index original data tersebut 4 Data disimpan kedalam index 4\n",
            "[('B', 20), None, None, None, ('A', 10)] Index original data tersebut 4 Data disimpan kedalam index 0\n",
            "[('B', 20), ('C', 30), None, None, ('A', 10)] Index original data tersebut 4 Data disimpan kedalam index 1\n",
            "[('B', 20), ('C', 30), ('D', 40), None, ('A', 10)] Index original data tersebut 1 Data disimpan kedalam index 2\n",
            "[('B', 20), ('C', 30), ('D', 40), ('E', 50), ('A', 10)] Index original data tersebut 4 Data disimpan kedalam index 3\n",
            "\n",
            "Proses menampikan data\n",
            "\n",
            "Nilai untuk 'A': 10\n",
            "Nilai untuk 'B': 20\n",
            "Nilai untuk 'C': 30\n",
            "Nilai untuk 'D': 40\n",
            "Nilai untuk 'E': 50\n"
          ]
        }
      ],
      "source": [
        "# membuat sebuah class bernama LinearProbingHashTable\n",
        "class LinearProbingHashTable:\n",
        "  # sebuah constructor yang nantinya akan dijalankan saat class di instansi\n",
        "  def __init__ (self, size):\n",
        "    # saat di instansi akan membuat sebuah properti size yang digunakan untuk menyimpan ukuran dari table tersebut\n",
        "    self.size = size\n",
        "    # membuat sebuah table sebanyak nilai dari size lalu disimpan di properti table\n",
        "    self.table = [None] * size\n",
        "\n",
        "  # membuat sebuah fungsi bernama hash_function yang digunakan sebagai proses terjadinya hashing\n",
        "  def hash_function(self, key):\n",
        "    # mengembalikan nilai dari hashing key lalu dilakukan operasi modulus dengan ukuran table\n",
        "    # contoh : 2110534888488805630 % 10\n",
        "    return hash (key) % self.size\n",
        "\n",
        "  # membuat sebuah fungsi bernama insert yang digunakan sebagai proses terjadinya penambahan data kedalam hash table\n",
        "  def insert(self, key, value):\n",
        "    # mengkonversikan key ke index dengan method hash_function lalu nilai yang di kembalikan akan di simpan kedalam variabel index\n",
        "    index = self.hash_function(key)\n",
        "\n",
        "    # menyimpan nilai original dari index sebelum terjadi sebuah perubahan\n",
        "    original_index = index\n",
        "\n",
        "    # jika ternyata nilai dari table dari posisi tersebut tidak kosong maka akan melakukan perulangan sampai mendapatkan posisi yang kosong\n",
        "    while self.table[index] is not None:\n",
        "      # jika ternyata nilai key dari table tersebut sama dengan key argument\n",
        "      # maka akan merubah pada posisi tersebut karena jika key nya sama maka indexnya juga harus sama\n",
        "      if self.table[index][0] == key:\n",
        "        # keluar dari loop\n",
        "        break\n",
        "      # merubah index dengan menambahkan index dengan 1 dan di sisa bagi dengan ukuran size supaya index masih dalam rentang 0 sampai ukuran table\n",
        "      index = (index + 1) % self.size\n",
        "\n",
        "      # jika ternyata pada satu putaran penuh nilai dari index sama dengan original_index atau index mula - mula\n",
        "      # maka dapat dipastikan table hash tersebut penuh\n",
        "      if index == original_index:\n",
        "        raise Exception(\"Hash table penuh\")\n",
        "\n",
        "    # menambahkan (key, value) ke posisi index yang kosong atau nilai dari keynya sama\n",
        "    self.table[index] = (key, value)\n",
        "\n",
        "    # menampilkan self.table untuk melihat bagaimana proses data dimasukan\n",
        "    print(self.table, f'Index original data tersebut {original_index}', f\"Data disimpan kedalam index {index}\")\n",
        "\n",
        "  # membuat sebuah fungsi bernama search yang digunakan sebagai proses terjadinya pencarian data lalu mengembalikan data tersebut\n",
        "  def search(self, key):\n",
        "    # mengkonversikan key ke index dengan method hash_function lalu nilai yang di kembalikan akan di simpan kedalam variabel index\n",
        "    index = self.hash_function(key)\n",
        "\n",
        "    # menyimpan nilai original dari index sebelum terjadi sebuah perubahan\n",
        "    original_index = index\n",
        "\n",
        "    # jika ternyata nilai dari table dari posisi tersebut tidak kosong maka akan melakukan perulangan sampai mendapatkan posisi yang kosong\n",
        "    while self.table[index] is not None:\n",
        "      # jika ternyata nilai key dari table tersebut sama dengan key argument\n",
        "      if self.table[index] [0] == key:\n",
        "        # maka akan mengembalikan value dari table posisi tersebut\n",
        "        return self.table[index] [1]\n",
        "\n",
        "      # merubah index dengan menambahkan index dengan 1 dan di sisa bagi dengan ukuran size supaya index masih dalam rentang 0 sampai ukuran table\n",
        "      index = (index + 1) % self.size\n",
        "\n",
        "      # jika ternyata pada satu putaran penuh nilai dari index sama dengan original_index atau index mula - mula\n",
        "      # maka dapat dipastikan tidak ada data yang sama atau data yang dicari tidak ada\n",
        "      if index == original_index:\n",
        "        # keluar dari looping\n",
        "        break\n",
        "    # mengembalikan None jika data yang dicari tidak ada\n",
        "    return None\n",
        "\n",
        "# Contoh penggunaan\n",
        "ht = LinearProbingHashTable (5)\n",
        "\n",
        "print(\"Proses memasukan data\")\n",
        "print(\"\")\n",
        "# menambahkan data dimana A sebagai key dan 10 sebagai value\n",
        "ht.insert(\"A\", 10)\n",
        "ht.insert(\"B\", 20)\n",
        "ht.insert(\"C\", 30)\n",
        "ht.insert(\"D\", 40)\n",
        "ht.insert(\"E\", 50)\n",
        "\n",
        "print(\"\")\n",
        "print(\"Proses menampikan data\")\n",
        "print(\"\")\n",
        "# menampilkan nilai\n",
        "print(\"Nilai untuk 'A':\", ht.search(\"A\"))\n",
        "print (\"Nilai untuk 'B':\", ht.search(\"B\"))\n",
        "print (\"Nilai untuk 'C':\", ht.search(\"C\"))\n",
        "print (\"Nilai untuk 'D':\", ht.search(\"D\"))\n",
        "print (\"Nilai untuk 'E':\", ht.search(\"E\"))\n"
      ]
    },
    {
      "cell_type": "markdown",
      "source": [
        "# Penjelasan apa yang terjadi jika memiliki index hash yang sama\n",
        "Dapat dilihat pada output tersebut untuk key A, B, C, E memiliki hash index yang sama. Karena pada index 4 data yang pertama ditambahkan adalah key A, maka yang menempati posisi tersebut adalah key A. Lalu apabila untuk key seterusnya terdapat index hash yang sama maka LinearProbingHashTable akan mencari data yang kosong secara berurutan. Dimulai dari index 0 lalu jika index 0 pada hash table sudah di isi maka akan ke index 1 sampai seterusnya secara linear atau berurutan sampai menemukan posisi yang kosong atau nilai dari keynya sama. Kemudian memasukan value tersebut sesuai dengan posisi yang masih kosong atau memiliki key yang sama. Jika keynya sama maka hanya akan merubah data tersebut jika posisi tersebut kosong maka akan mengisi posisi tersebut."
      ],
      "metadata": {
        "id": "uQFgyVPOMOWJ"
      }
    },
    {
      "cell_type": "markdown",
      "source": [
        "## 2. Percobaan Dasar Chaining\n"
      ],
      "metadata": {
        "id": "hFXtOfHFLe32"
      }
    },
    {
      "cell_type": "code",
      "source": [
        "# membuat sebuah class bernama ChainingHashTable\n",
        "class ChainingHashTable:\n",
        "  # sebuah constructor yang nantinya akan dijalankan saat class di instansi\n",
        "  def __init__ (self, size):\n",
        "    # saat di instansi akan membuat sebuah properti size yang digunakan untuk menyimpan ukuran dari table tersebut\n",
        "    self.size = size\n",
        "    # membuat sebuah table sebanyak nilai dari size lalu disimpan di properti table\n",
        "    # table tersebut berisi list dimana jika ada index yang sama maka akan disimpan didalam index tersebut menjadi list\n",
        "    self.table = [[] for _ in range(size)]\n",
        "\n",
        "  # membuat sebuah fungsi bernama hash_function yang digunakan sebagai proses terjadinya hashing\n",
        "  def hash_function(self, key):\n",
        "    # mengembalikan nilai dari hashing key lalu dilakukan operasi modulus dengan ukuran table\n",
        "    # contoh : 2110534888488805630 % 10\n",
        "    return hash (key) % self.size\n",
        "\n",
        "  # membuat sebuah fungsi bernama insert yang digunakan sebagai proses terjadinya penambahan data kedalam hash table\n",
        "  def insert(self, key, value):\n",
        "    # mengkonversikan key ke index dengan method hash_function lalu nilai yang di kembalikan akan di simpan kedalam variabel index\n",
        "    index = self.hash_function(key)\n",
        "\n",
        "    # melakukan sebuah loop pada list yang berada pada table dengan posisi yang ditentukan index tersebut\n",
        "    # enumerate ini berfungsi untuk menyimpan key dan value dari self.table[index] lalu memasukannya ke k dan v\n",
        "    # layaknya destruction variabel\n",
        "    for i, (k, v) in enumerate (self.table[index]):\n",
        "      # jika ternyata nilai key dari table tersebut sama dengan key argument\n",
        "      # maka akan merubah data pada posisi tersebut karena jika key nya sama maka indexnya juga harus sama\n",
        "      if k == key:\n",
        "        # merubah nilai pada posisi tersebut dengan data yang baru\n",
        "        self.table[index] [i] = (key, value)\n",
        "        return\n",
        "\n",
        "    # jika tidak ditemukan data yang sama maka akan menambahkan nilai di posisi index\n",
        "    # sebagai catatan jika ada dua key a dan b memiliki index yang sama maka akan ditambahkan di posisi tersebut hanya saja tidak akan terjadi penumpukan data\n",
        "    # karena key yang b akan ditambahkan setelah key b dalam bentuk list\n",
        "    self.table[index].append((key, value))\n",
        "\n",
        "    # menampilkan self.table untuk melihat bagaimana proses data dimasukan\n",
        "    print(self.table, f\"Data disimpan kedalam index {index}\")\n",
        "\n",
        "\n",
        "  # membuat sebuah fungsi bernama search yang digunakan sebagai proses terjadinya pencarian data lalu mengembalikan data tersebut\n",
        "  def search(self, key):\n",
        "    # mengkonversikan key ke index dengan method hash_function lalu nilai yang di kembalikan akan di simpan kedalam variabel index\n",
        "    index = self.hash_function(key)\n",
        "\n",
        "    # melakukan sebuah loop pada list yang berada pada table dengan posisi yang ditentukan index tersebut\n",
        "    for k, v in self.table[index]:\n",
        "      # jika ternyata nilai key dari table tersebut sama dengan key argument\n",
        "      if k == key:\n",
        "        # maka mengembalikan value dari table dengan posisi index tersebut\n",
        "        return v\n",
        "\n",
        "    # mengembalikan None jika data yang dicari tidak ada\n",
        "    return None\n",
        "# Contoh penggunaan\n",
        "ht = ChainingHashTable(3)\n",
        "\n",
        "print(\"Proses memasukan data\")\n",
        "print(\"\")\n",
        "# menambahkan data dimana apel sebagai key dan 100 sebagai value\n",
        "ht.insert(\"apel\", 100)\n",
        "ht.insert(\"melon\", 200)\n",
        "ht.insert(\"lemon\", 300)\n",
        "ht.insert(\"pisang\", 400)\n",
        "\n",
        "print(\"\")\n",
        "print(\"Proses menampikan data\")\n",
        "print(\"\")\n",
        "\n",
        "# menampilkan nilai\n",
        "print(\"Nilai untuk 'apel':\", ht.search(\"apel\"))\n",
        "print (\"Nilai untuk 'melon':\", ht.search(\"melon\"))\n",
        "print (\"Nilai untuk 'lemon':\", ht.search(\"lemon\"))\n",
        "print (\"Nilai untuk 'pisang':\", ht.search(\"pisang\"))\n",
        "\n"
      ],
      "metadata": {
        "colab": {
          "base_uri": "https://localhost:8080/"
        },
        "id": "3kmo5AorLhqv",
        "outputId": "fccc3092-673a-4312-956f-35af818b68fd"
      },
      "execution_count": null,
      "outputs": [
        {
          "output_type": "stream",
          "name": "stdout",
          "text": [
            "Proses memasukan data\n",
            "\n",
            "[[], [('apel', 100)], []] Data disimpan kedalam index 1\n",
            "[[], [('apel', 100), ('melon', 200)], []] Data disimpan kedalam index 1\n",
            "[[], [('apel', 100), ('melon', 200)], [('lemon', 300)]] Data disimpan kedalam index 2\n",
            "[[], [('apel', 100), ('melon', 200)], [('lemon', 300), ('pisang', 400)]] Data disimpan kedalam index 2\n",
            "\n",
            "Proses menampikan data\n",
            "\n",
            "Nilai untuk 'apel': 100\n",
            "Nilai untuk 'melon': 200\n",
            "Nilai untuk 'lemon': 300\n",
            "Nilai untuk 'pisang': 400\n"
          ]
        }
      ]
    },
    {
      "cell_type": "markdown",
      "source": [
        "# Penjelasan apa yang terjadi jika memiliki index hash yang sama\n",
        "Dapat dilihat pada key apel dan melon memiliki index hash yang sama yaitu 1 dan lemon dan pisang juga memiliki index hash yang sama yaitu 2. Lalu hal yang dilakukan oleh Chaining adalah menempatkan key lemon dan pisang di posisi yang sama hanya saja data tersebut tidak di timbun melainkan disimpan secara bersama - sama di dalam list. Lalu list tersebut akan disimpan di posisi sesuai dengan hasil dari index hash tersebut. Oleh sebab itu key apel dan key melon berada pada index 1 secara bersama - sama. Hal serupa juga berlaku pada key lemon dan pisang."
      ],
      "metadata": {
        "id": "HI66jTQ9Sk0h"
      }
    }
  ]
}