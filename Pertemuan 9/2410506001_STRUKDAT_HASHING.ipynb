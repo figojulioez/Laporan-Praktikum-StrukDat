{
  "nbformat": 4,
  "nbformat_minor": 0,
  "metadata": {
    "colab": {
      "provenance": [],
      "authorship_tag": "ABX9TyOyRE/AwNZkqaDHz1ByZ5C5",
      "include_colab_link": true
    },
    "kernelspec": {
      "name": "python3",
      "display_name": "Python 3"
    },
    "language_info": {
      "name": "python"
    }
  },
  "cells": [
    {
      "cell_type": "markdown",
      "metadata": {
        "id": "view-in-github",
        "colab_type": "text"
      },
      "source": [
        "<a href=\"https://colab.research.google.com/github/figojulioez/Laporan-Praktikum-StrukDat/blob/main/Pertemuan%209/2410506001_STRUKDAT_HASHING.ipynb\" target=\"_parent\"><img src=\"https://colab.research.google.com/assets/colab-badge.svg\" alt=\"Open In Colab\"/></a>"
      ]
    },
    {
      "cell_type": "markdown",
      "source": [
        "## Implementasi Hash table sederhana"
      ],
      "metadata": {
        "id": "8NQpk_hQ441L"
      }
    },
    {
      "cell_type": "code",
      "execution_count": null,
      "metadata": {
        "colab": {
          "base_uri": "https://localhost:8080/"
        },
        "id": "f69XgnsZx6jQ",
        "outputId": "19423650-4f93-4c93-eb83-32fdd8f1e8bf"
      },
      "outputs": [
        {
          "output_type": "stream",
          "name": "stdout",
          "text": [
            "Nilai untuk 'apel': 200\n",
            "Nilai untuk 'pisang': 200\n"
          ]
        }
      ],
      "source": [
        "# membuat sebuah class dengan nama SimpleHashTable\n",
        "class SimpleHashTable:\n",
        "  # sebuah constructor yang nantinya akan dijalankan saat class di instansi\n",
        "  def __init__ (self, size):\n",
        "    # saat di instansi akan membuat sebuah properti size yang digunakan untuk menyimpan ukuran dari table tersebut\n",
        "    self.size = size\n",
        "    # membuat sebuah table sebanyak nilai dari size lalu disimpan di properti table\n",
        "    self.table = [None] * size\n",
        "\n",
        "  # membuat sebuah fungsi bernama hash_function yang digunakan sebagai proses terjadinya hashing\n",
        "  def hash_function(self, key):\n",
        "    # mengembalikan nilai dari hashing key lalu dilakukan operasi modulus dengan ukuran table\n",
        "    # contoh : 2110534888488805630 % 10\n",
        "    return hash (key) % self.size\n",
        "\n",
        "  # membuat sebuah fungsi bernama insert yang digunakan sebagai proses terjadinya penambahan data kedalam hash table\n",
        "  def insert(self, key, value):\n",
        "    # mengkonversikan key ke index dengan method hash_function lalu nilai yang di kembalikan akan di simpan kedalam variabel index\n",
        "    index = self.hash_function(key)\n",
        "\n",
        "    # setelah dilakuka hashing maka akan menyimpan value di posisi hasil konversi\n",
        "    self.table[index] = value\n",
        "\n",
        "  # membuat sebuah fungsi bernama search yang digunakan sebagai proses terjadinya pencarian data lalu mengembalikan data tersebut\n",
        "  def search(self, key) :\n",
        "    # mengkonversikan key ke index\n",
        "    # sebagai catatan key yang sama akan menghasilkan proses hash yang sama pula\n",
        "    index = self.hash_function(key)\n",
        "\n",
        "    # lalu mengembalikan nilai dari hash table di posisi tersebut\n",
        "    return self.table[index]\n",
        "\n",
        "\n",
        "\n",
        "# Contoh penggunaan\n",
        "ht = SimpleHashTable (10)\n",
        "\n",
        "# menambahkan data dimana apel sebagai key dan 100 sebagai value\n",
        "ht.insert(\"apel\", 100)\n",
        "ht.insert(\"pisang\", 200)\n",
        "\n",
        "# menampilkan nilai\n",
        "print(\"Nilai untuk 'apel':\", ht.search(\"apel\"))\n",
        "print (\"Nilai untuk 'pisang':\", ht.search(\"pisang\"))"
      ]
    },
    {
      "cell_type": "markdown",
      "source": [
        "## Linear probing"
      ],
      "metadata": {
        "id": "BqFRPZlI9ZJd"
      }
    },
    {
      "cell_type": "code",
      "source": [
        "# membuat sebuah class bernama LinearProbingHashTable\n",
        "class LinearProbingHashTable:\n",
        "  # sebuah constructor yang nantinya akan dijalankan saat class di instansi\n",
        "  def __init__ (self, size):\n",
        "    # saat di instansi akan membuat sebuah properti size yang digunakan untuk menyimpan ukuran dari table tersebut\n",
        "    self.size = size\n",
        "    # membuat sebuah table sebanyak nilai dari size lalu disimpan di properti table\n",
        "    self.table = [None] * size\n",
        "\n",
        "  # membuat sebuah fungsi bernama hash_function yang digunakan sebagai proses terjadinya hashing\n",
        "  def hash_function(self, key):\n",
        "    # mengembalikan nilai dari hashing key lalu dilakukan operasi modulus dengan ukuran table\n",
        "    # contoh : 2110534888488805630 % 10\n",
        "    return hash (key) % self.size\n",
        "\n",
        "  # membuat sebuah fungsi bernama insert yang digunakan sebagai proses terjadinya penambahan data kedalam hash table\n",
        "  def insert(self, key, value):\n",
        "    # mengkonversikan key ke index dengan method hash_function lalu nilai yang di kembalikan akan di simpan kedalam variabel index\n",
        "    index = self.hash_function(key)\n",
        "\n",
        "    # menyimpan nilai original dari index sebelum terjadi sebuah perubahan\n",
        "    original_index = index\n",
        "\n",
        "    # jika ternyata nilai dari table dari posisi tersebut tidak kosong maka akan melakukan perulangan sampai mendapatkan posisi yang kosong\n",
        "    while self.table[index] is not None:\n",
        "      # jika ternyata nilai key dari table tersebut sama dengan key argument\n",
        "      # maka akan merubah pada posisi tersebut karena jika key nya sama maka indexnya juga harus sama\n",
        "      if self.table[index][0] == key:\n",
        "        # keluar dari loop\n",
        "        break\n",
        "      # merubah index dengan menambahkan index dengan 1 dan di sisa bagi dengan ukuran size supaya index masih dalam rentang 0 sampai ukuran table\n",
        "      index = (index + 1) % self.size\n",
        "\n",
        "      # jika ternyata pada satu putaran penuh nilai dari index sama dengan original_index atau index mula - mula\n",
        "      # maka dapat dipastikan table hash tersebut penuh\n",
        "      if index == original_index:\n",
        "        raise Exception(\"Hash table penuh\")\n",
        "\n",
        "    # menambahkan (key, value) ke posisi index yang kosong atau nilai dari keynya sama\n",
        "    self.table[index] = (key, value)\n",
        "\n",
        "  # membuat sebuah fungsi bernama search yang digunakan sebagai proses terjadinya pencarian data lalu mengembalikan data tersebut\n",
        "  def search(self, key):\n",
        "    # mengkonversikan key ke index dengan method hash_function lalu nilai yang di kembalikan akan di simpan kedalam variabel index\n",
        "    index = self.hash_function(key)\n",
        "\n",
        "    # menyimpan nilai original dari index sebelum terjadi sebuah perubahan\n",
        "    original_index = index\n",
        "\n",
        "    # jika ternyata nilai dari table dari posisi tersebut tidak kosong maka akan melakukan perulangan sampai mendapatkan posisi yang kosong\n",
        "    while self.table[index] is not None:\n",
        "      # jika ternyata nilai key dari table tersebut sama dengan key argument\n",
        "      if self.table[index] [0] == key:\n",
        "        # maka akan mengembalikan value dari table posisi tersebut\n",
        "        return self.table[index] [1]\n",
        "\n",
        "      # merubah index dengan menambahkan index dengan 1 dan di sisa bagi dengan ukuran size supaya index masih dalam rentang 0 sampai ukuran table\n",
        "      index = (index + 1) % self.size\n",
        "\n",
        "      # jika ternyata pada satu putaran penuh nilai dari index sama dengan original_index atau index mula - mula\n",
        "      # maka dapat dipastikan tidak ada data yang sama atau data yang dicari tidak ada\n",
        "      if index == original_index:\n",
        "        # keluar dari looping\n",
        "        break\n",
        "    # mengembalikan None jika data yang dicari tidak ada\n",
        "    return None\n",
        "\n",
        "# Contoh penggunaan\n",
        "ht = LinearProbingHashTable (5)\n",
        "\n",
        "# menambahkan data dimana apel sebagai key dan 100 sebagai value\n",
        "ht.insert(\"apel\", 100)\n",
        "ht.insert(\"pisang\", 200)\n",
        "ht.insert(\"melon\", 300)\n",
        "\n",
        "# menampilkan nilai\n",
        "print(\"Nilai untuk 'apel':\", ht.search(\"apel\"))\n",
        "print (\"Nilai untuk 'pisang':\", ht.search(\"pisang\"))\n",
        "print (\"Nilai untuk 'melon':\", ht.search(\"melon\"))"
      ],
      "metadata": {
        "colab": {
          "base_uri": "https://localhost:8080/"
        },
        "id": "8mFNHLDkyiwS",
        "outputId": "c9b0c72e-1c12-4137-d036-12faad87c579"
      },
      "execution_count": null,
      "outputs": [
        {
          "output_type": "stream",
          "name": "stdout",
          "text": [
            "Nilai untuk 'apel': 100\n",
            "Nilai untuk 'pisang': 200\n",
            "Nilai untuk 'melon': 300\n"
          ]
        }
      ]
    },
    {
      "cell_type": "markdown",
      "source": [
        "## Chaining"
      ],
      "metadata": {
        "id": "o-50w57uD-aI"
      }
    },
    {
      "cell_type": "code",
      "source": [
        "# membuat sebuah class bernama ChainingHashTable\n",
        "class ChainingHashTable:\n",
        "  # sebuah constructor yang nantinya akan dijalankan saat class di instansi\n",
        "  def __init__ (self, size):\n",
        "    # saat di instansi akan membuat sebuah properti size yang digunakan untuk menyimpan ukuran dari table tersebut\n",
        "    self.size = size\n",
        "    # membuat sebuah table sebanyak nilai dari size lalu disimpan di properti table\n",
        "    # table tersebut berisi list dimana jika ada index yang sama maka akan disimpan didalam index tersebut menjadi list\n",
        "    self.table = [[] for _ in range(size)]\n",
        "\n",
        "  # membuat sebuah fungsi bernama hash_function yang digunakan sebagai proses terjadinya hashing\n",
        "  def hash_function(self, key):\n",
        "    # mengembalikan nilai dari hashing key lalu dilakukan operasi modulus dengan ukuran table\n",
        "    # contoh : 2110534888488805630 % 10\n",
        "    return hash (key) % self.size\n",
        "\n",
        "  # membuat sebuah fungsi bernama insert yang digunakan sebagai proses terjadinya penambahan data kedalam hash table\n",
        "  def insert(self, key, value):\n",
        "    # mengkonversikan key ke index dengan method hash_function lalu nilai yang di kembalikan akan di simpan kedalam variabel index\n",
        "    index = self.hash_function(key)\n",
        "\n",
        "    # melakukan sebuah loop pada list yang berada pada table dengan posisi yang ditentukan index tersebut\n",
        "    # enumerate ini berfungsi untuk menyimpan key dan value dari self.table[index] lalu memasukannya ke k dan v\n",
        "    # layaknya destruction variabel\n",
        "    for i, (k, v) in enumerate (self.table[index]):\n",
        "      # jika ternyata nilai key dari table tersebut sama dengan key argument\n",
        "      # maka akan merubah data pada posisi tersebut karena jika key nya sama maka indexnya juga harus sama\n",
        "      if k == key:\n",
        "        # merubah nilai pada posisi tersebut dengan data yang baru\n",
        "        self.table[index] [i] = (key, value)\n",
        "        return\n",
        "\n",
        "    # jika tidak ditemukan data yang sama maka akan menambahkan nilai di posisi index\n",
        "    # sebagai catatan jika ada dua key a dan b memiliki index yang sama maka akan ditambahkan di posisi tersebut hanya saja tidak akan terjadi penumpukan data\n",
        "    # karena key yang b akan ditambahkan setelah key b dalam bentuk list\n",
        "    self.table[index].append((key, value))\n",
        "\n",
        "\n",
        "  # membuat sebuah fungsi bernama search yang digunakan sebagai proses terjadinya pencarian data lalu mengembalikan data tersebut\n",
        "  def search(self, key):\n",
        "    # mengkonversikan key ke index dengan method hash_function lalu nilai yang di kembalikan akan di simpan kedalam variabel index\n",
        "    index = self.hash_function(key)\n",
        "\n",
        "    # melakukan sebuah loop pada list yang berada pada table dengan posisi yang ditentukan index tersebut\n",
        "    for k, v in self.table[index]:\n",
        "      # jika ternyata nilai key dari table tersebut sama dengan key argument\n",
        "      if k == key:\n",
        "        # maka mengembalikan value dari table dengan posisi index tersebut\n",
        "        return v\n",
        "\n",
        "    # mengembalikan None jika data yang dicari tidak ada\n",
        "    return None\n",
        "# Contoh penggunaan\n",
        "ht = ChainingHashTable(5)\n",
        "\n",
        "# menambahkan data dimana apel sebagai key dan 100 sebagai value\n",
        "ht.insert(\"apel\", 100)\n",
        "ht.insert(\"pisang\", 200)\n",
        "ht.insert(\"melon\", 300)\n",
        "\n",
        "# menampilkan nilai\n",
        "print(\"Nilai untuk 'apel':\", ht.search(\"apel\"))\n",
        "print (\"Nilai untuk 'melon':\", ht.search(\"melon\"))\n"
      ],
      "metadata": {
        "colab": {
          "base_uri": "https://localhost:8080/"
        },
        "id": "blwZlVqrEAfA",
        "outputId": "c8ebd343-cd31-43d0-ab28-66a9cccb547c"
      },
      "execution_count": null,
      "outputs": [
        {
          "output_type": "stream",
          "name": "stdout",
          "text": [
            "Nilai untuk 'apel': 100\n",
            "Nilai untuk 'melon': 300\n"
          ]
        }
      ]
    }
  ]
}