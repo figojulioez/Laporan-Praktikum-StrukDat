{
  "nbformat": 4,
  "nbformat_minor": 0,
  "metadata": {
    "colab": {
      "provenance": [],
      "collapsed_sections": [
        "m6gr6LvYvOsL",
        "6UvejooyvDEi",
        "JUwljbSY3xdO"
      ],
      "authorship_tag": "ABX9TyPP2sE+N+gKqWSv+sYI0gkp",
      "include_colab_link": true
    },
    "kernelspec": {
      "name": "python3",
      "display_name": "Python 3"
    },
    "language_info": {
      "name": "python"
    }
  },
  "cells": [
    {
      "cell_type": "markdown",
      "metadata": {
        "id": "view-in-github",
        "colab_type": "text"
      },
      "source": [
        "<a href=\"https://colab.research.google.com/github/figojulioez/Laporan-Praktikum-StrukDat/blob/main/Pertemuan%207/2410506001_TUGASSTRUKDAT_TREE.ipynb\" target=\"_parent\"><img src=\"https://colab.research.google.com/assets/colab-badge.svg\" alt=\"Open In Colab\"/></a>"
      ]
    },
    {
      "cell_type": "markdown",
      "source": [
        "## Binary Tree Secara Manual"
      ],
      "metadata": {
        "id": "m6gr6LvYvOsL"
      }
    },
    {
      "cell_type": "code",
      "source": [
        "# mendefinisikan class dengan nama Node\n",
        "class Node:\n",
        "  #  constructor function\n",
        "  def __init__(self, data) :\n",
        "\n",
        "    # mendeklarasikan atribut data untuk menyimpan nilai dan properti left untuk menyimpan node kiri dan atribut right untuk menyimpan node kanan\n",
        "    self.data = data\n",
        "    self.left = None\n",
        "    self.right = None\n",
        "\n",
        "\n",
        "# Instansi object node dan menyimpan nya di dalam variabel root\n",
        "root = Node(1)\n",
        "\n",
        "# Instansi object node dan menyimpannya didalam properti left\n",
        "root.left = Node(2)\n",
        "\n",
        "# Instansi object node dan menyimpannya didalam properti right\n",
        "root.right = Node(3)\n",
        "\n",
        "# Instansi object node dan menyimpannya didalam properti left.left\n",
        "root.left.left = Node(4)\n",
        "\n",
        "# Instansi object node dan menyimpannya didalam properti right.right\n",
        "root.right.right = Node(5)\n",
        "\n"
      ],
      "metadata": {
        "id": "57vinqFFvIWo"
      },
      "execution_count": null,
      "outputs": []
    },
    {
      "cell_type": "markdown",
      "source": [
        "## Binary Search Tree"
      ],
      "metadata": {
        "id": "6UvejooyvDEi"
      }
    },
    {
      "cell_type": "code",
      "execution_count": null,
      "metadata": {
        "id": "QA-2WFk8n3v_"
      },
      "outputs": [],
      "source": [
        "# mendefinisikan class dengan nama Node\n",
        "class Node:\n",
        "  #  constructor function\n",
        "  def __init__(self, data) :\n",
        "\n",
        "    # mendeklarasikan properti data untuk menyimpan nilai dan properti left untuk menyimpan node kiri dan properti right untuk menyimpan node kanan\n",
        "    self.data = data\n",
        "    self.left = None\n",
        "    self.right = None\n",
        "\n",
        "# mendefinisikan class dengan nama BinarySearchTree\n",
        "class BinarySearchTree:\n",
        "\n",
        "  # constructor function\n",
        "  def __init__(self) :\n",
        "\n",
        "    # mendeklarasikan properti root yang digunakan sebagai awal dari traversal tree atau penelusuran\n",
        "    self.root = None\n",
        "\n",
        "  # mendefinisikan method insert berfungsi untuk menambahkan nilai ke dalam tree\n",
        "  def insert(self, root, data) :\n",
        "\n",
        "    # jika parameter root yang di kirimkan none maka akan mengembalikan instansi object node\n",
        "    if root is None:\n",
        "      return Node(data)\n",
        "\n",
        "    # jika saat rekursif atau pun tidak nilai dari root.data nilainya lebih kecil dari data maka\n",
        "    if data < root.data:\n",
        "\n",
        "      # akan memanggil self.insert secara rekursif dan akan berhenti sampai root bernilai none dan hasilnya akan disimpan di root.left\n",
        "      root.left = self.insert(root.left, data)\n",
        "    else :\n",
        "      # akan memanggil self.insert secara rekursif dan akan berhenti sampai root bernilai none dan hasilnya akan disimpan di root.right\n",
        "      root.right = self.insert(root.right, data)\n",
        "    # mengembalikan nilai dari root\n",
        "    return root\n",
        "\n",
        "# instansi object BinarySearchTree dan disimpan ke dalam variabel bst\n",
        "bst = BinarySearchTree()\n",
        "\n",
        "# mendefinisikan variabel root dengan nilai none mula - mula\n",
        "# digunakan untuk menyimpan tree\n",
        "root = None\n",
        "\n",
        "# mendefinisikan variabel data_list di isi dengan array yang nantinya datanya akan disimpan secara hirarkis\n",
        "data_list = [50, 30, 70, 20, 40, 60, 80]\n",
        "\n",
        "# melakukan looping setiap data dari data_list\n",
        "for value in data_list :\n",
        "\n",
        "  # data yang di looping di proses dalam bst.insert untuk menentukan level berapa data tersebut\n",
        "  root = bst.insert(root, value)\n"
      ]
    },
    {
      "cell_type": "markdown",
      "source": [
        "## Traversal pada BST"
      ],
      "metadata": {
        "id": "JUwljbSY3xdO"
      }
    },
    {
      "cell_type": "code",
      "source": [
        "# Mendefinisikan sebuah function inOrder yang digunakan untuk menelusuri\n",
        "def inOrder(node) :\n",
        "  # jika node nya tidak bernilai none\n",
        "  if node:\n",
        "    # memanggil inOrder secara rekursif dimana nilai parameter adalah node.left hingga nilai nya None\n",
        "    inOrder(node.left)\n",
        "    # menampilkan data\n",
        "    print(node.data, end=\" \")\n",
        "    # memanggil inOrder secara rekursif dimana nilai parameter adalah node.right hingga nilai nya None\n",
        "    inOrder(node.right)\n",
        "\n",
        "# Mendefinisikan sebuah function preOrder yang digunakan untuk menelusuri\n",
        "def preOrder(node):\n",
        "  # jika node nya tidak bernilai none\n",
        "  if node:\n",
        "    # menampilkan data\n",
        "    print(node.data, end=\" \")\n",
        "    # memanggil preOrder secara rekursif dimana nilai parameter adalah node.left hingga nilai nya None\n",
        "    preOrder(node.left)\n",
        "    # memanggil preOrder secara rekursif dimana nilai parameter adalah node.right hingga nilai nya None\n",
        "    preOrder(node.right)\n",
        "\n",
        "# Mendefinisikan sebuah function postOrder yang digunakan untuk menelusuri\n",
        "def postOrder(node) :\n",
        "  # jika node nya tidak bernilai none\n",
        "  if node:\n",
        "    # memanggil postOrder secara rekursif dimana nilai parameter adalah node.left hingga nilai nya None\n",
        "    postOrder(node.left)\n",
        "    # memanggil postOrder secara rekursif dimana nilai parameter adalah node.left hingga nilai nya None\n",
        "    postOrder(node.right)\n",
        "    # menampilkan data\n",
        "    print(node.data, end=\" \")\n",
        "\n",
        "# Menampilkan inorder traversal\n",
        "print(\"Inorder Traversal: \")\n",
        "# memanggil inOrder dengan nilai argumen root\n",
        "inOrder(root)\n",
        "# Menampilkan preOrder traversal\n",
        "print(\"\\nPreorder Traversal: \")\n",
        "# memanggil preOrder dengan nilai argumen root\n",
        "preOrder(root)\n",
        "# Menampilkan postOrder traversal\n",
        "print(\"\\nPostorder Traversal: \")\n",
        "# memanggil postOrder dengan nilai argumen root\n",
        "postOrder(root)"
      ],
      "metadata": {
        "colab": {
          "base_uri": "https://localhost:8080/"
        },
        "id": "1_4qIGDV36Ex",
        "outputId": "90c4a7da-dfae-4f89-ddc5-f8b2b70ddffa"
      },
      "execution_count": null,
      "outputs": [
        {
          "output_type": "stream",
          "name": "stdout",
          "text": [
            "Inorder Traversal: \n",
            "07 17 38 01 07 \n",
            "Preorder Traversal: \n",
            "38 17 07 01 07 \n",
            "Postorder Traversal: \n",
            "07 17 07 01 38 "
          ]
        }
      ]
    },
    {
      "cell_type": "markdown",
      "source": [
        "## Pencarian nilai dalam bst"
      ],
      "metadata": {
        "id": "8NMysiH9D-b3"
      }
    },
    {
      "cell_type": "code",
      "source": [
        "# Mendefinisikan function search untuk mencari data dengan parameter node untuk menyimpan tree dan key untuk menyimpan kunci yang di cari\n",
        "def search(node, key) :\n",
        "  # Jika nilai dari node kosong atau saat rekursif node.data nilainya sama dengan key\n",
        "  if node is None or node.data == key:\n",
        "    # jika nilai dari node saat rekursif terakhir None maka data yang di cari tidak ada dan mengembalikan nilai None\n",
        "    # jika nilai dari key ketemu maka return data yang di cari\n",
        "    return node\n",
        "\n",
        "  # jika nilai dari key lebih kecil dari node.data\n",
        "  if key < node.data :\n",
        "    # maka memanggil function search secara rekursif hingga nilai yang dikembalikan antara dari key yang ketemu hingga nilai dari node\n",
        "    # nilai yang di jadikan argumen adalah node.left\n",
        "    return search(node.left, key)\n",
        "    # maka memanggil function search secara rekursif hingga nilai yang dikembalikan antara dari key yang ketemu hingga nilai dari node\n",
        "    # nilai yang di jadikan argumen adalah node.right\n",
        "  return search(node.right, key)\n",
        "\n",
        "# key yang di cari\n",
        "key = 80\n",
        "\n",
        "# memanggil search dan nilai yang di kembalikan search akan di simpan di dalam search\n",
        "result = search(root, key)\n",
        "\n",
        "# jika nilai dari result sebuah key maka\n",
        "if result :\n",
        "  # mengembalikan nilai\n",
        "  print(f\"{key} ditemukan dalam tree.\")\n",
        "  # jika tidak ada\n",
        "else :\n",
        "  print(f\"{key} tidak ditemukan.\")"
      ],
      "metadata": {
        "colab": {
          "base_uri": "https://localhost:8080/"
        },
        "id": "-hBTl3NjD99a",
        "outputId": "375f943a-e2b9-4553-88a0-54485cef3843"
      },
      "execution_count": null,
      "outputs": [
        {
          "output_type": "stream",
          "name": "stdout",
          "text": [
            "80 ditemukan dalam tree.\n"
          ]
        }
      ]
    },
    {
      "cell_type": "markdown",
      "source": [
        "## Tugas 1\n"
      ],
      "metadata": {
        "id": "-FBFN35x_MYW"
      }
    },
    {
      "cell_type": "code",
      "source": [
        "# Struktur tree bedasarkan identitas saya\n",
        "\n",
        "# mendefinisikan nama saya untuk di hitung jumlah hurufnya\n",
        "nama = \"Julioez Candita Haga Figo Latupeirissa\".lower()\n",
        "# mendefinisikan jumlah huruf dari perhitungan nama saya dengan menggunakan function len\n",
        "jumlahHuruf = len(nama)\n",
        "# mendefinisikan jumlah huruf vokal dari nama saya dengan menggunakan method count untuk menghitung jumlah huruf\n",
        "jumlahVokal = nama.count(\"a\") + nama.count(\"i\") + nama.count(\"u\") + nama.count(\"e\") + nama.count(\"o\")\n",
        "# mendefinisikan tanggal lahir saya 07 Juli\n",
        "tanggalLahir = '07'\n",
        "# mendefinikan bulan lahir saya\n",
        "bulanLahir = '07'\n",
        "# mendefiniskan dua digit terakrhir npm saya 2410506001\n",
        "digitTerakhir = '01'\n",
        "# mendefinisikan class dengan nama Node\n",
        "class Node:\n",
        "  #  constructor function\n",
        "  def __init__(self, data) :\n",
        "\n",
        "    # mendeklarasikan atribut data untuk menyimpan nilai dan properti left untuk menyimpan node kiri dan atribut right untuk menyimpan node kanan\n",
        "    self.data = data\n",
        "    self.left = None\n",
        "    self.right = None\n",
        "\n",
        "# Instansi object node dan menyimpan nya di dalam variabel tree\n",
        "tree = Node(jumlahHuruf)\n",
        "\n",
        "# Instansi object node dan menyimpannya didalam properti left\n",
        "tree.left = Node(jumlahVokal)\n",
        "\n",
        "# Instansi object node dan menyimpannya didalam properti right\n",
        "tree.right = Node(digitTerakhir)\n",
        "\n",
        "# Instansi object node dan menyimpannya didalam properti left.left\n",
        "tree.left.left = Node(tanggalLahir)\n",
        "\n",
        "# Instansi object node dan menyimpannya didalam properti right.right\n",
        "tree.right.right = Node(bulanLahir)\n",
        "\n",
        "\n",
        "# Mendefinisikan sebuah function inOrder yang digunakan untuk menelusuri\n",
        "def inOrder(node) :\n",
        "  # jika node nya tidak bernilai none\n",
        "  if node:\n",
        "    # memanggil inOrder secara rekursif dimana nilai parameter adalah node.left hingga nilai nya None\n",
        "    inOrder(node.left)\n",
        "    # menampilkan data\n",
        "    print(node.data, end=\" \")\n",
        "    # memanggil inOrder secara rekursif dimana nilai parameter adalah node.right hingga nilai nya None\n",
        "    inOrder(node.right)\n",
        "\n",
        "print(\"Struktur Tree bedasarkan identitas saya.\")\n",
        "# memanggil inOrder dan memberi nilai parameter tree node yang sudah dibuat\n",
        "inOrder(tree)\n"
      ],
      "metadata": {
        "colab": {
          "base_uri": "https://localhost:8080/"
        },
        "id": "aqvNFNS0_O8u",
        "outputId": "24ba2eb3-c887-4f33-c28e-236e022af17c"
      },
      "execution_count": null,
      "outputs": [
        {
          "output_type": "stream",
          "name": "stdout",
          "text": [
            "Struktur Tree bedasarkan identitas saya.\n",
            "07 17 38 01 07 "
          ]
        }
      ]
    },
    {
      "cell_type": "code",
      "source": [
        "# Mendefinisikan tiga digit terakhir pada npm saya 2410506001\n",
        "digitNpm = 1\n",
        "# mendefinisikan tanggal lahir 07 juli\n",
        "tglLahir = 7\n",
        "bulanLahir = 7\n",
        "# huruf F ASCII memiliki 70 (desimal)\n",
        "# huruf I ASCII memiliki 73 (desimal)\n",
        "asciiF = 70\n",
        "asciiI = 73\n",
        "# tambah dua angka bebas\n",
        "angkaBebas1 = 12\n",
        "angkaBebas2 = 14\n",
        "\n",
        "# mendefinisikan class dengan nama Node\n",
        "class Node:\n",
        "  #  constructor function\n",
        "  def __init__(self, data) :\n",
        "\n",
        "    # mendeklarasikan properti data untuk menyimpan nilai dan properti left untuk menyimpan node kiri dan properti right untuk menyimpan node kanan\n",
        "    self.data = data\n",
        "    self.left = None\n",
        "    self.right = None\n",
        "\n",
        "# mendefinisikan class dengan nama BinarySearchTree\n",
        "class BinarySearchTree:\n",
        "\n",
        "  # constructor function\n",
        "  def __init__(self) :\n",
        "\n",
        "    # mendeklarasikan properti root yang digunakan sebagai awal dari traversal tree atau penelusuran\n",
        "    self.root = None\n",
        "\n",
        "  # mendefinisikan method insert berfungsi untuk menambahkan nilai ke dalam tree\n",
        "  def insert(self, root, data) :\n",
        "\n",
        "    # jika parameter root yang di kirimkan none maka akan mengembalikan instansi object node\n",
        "    if root is None:\n",
        "      return Node(data)\n",
        "\n",
        "    # jika saat rekursif atau pun tidak nilai dari root.data nilainya lebih kecil dari data maka\n",
        "    if data < root.data:\n",
        "\n",
        "      # akan memanggil self.insert secara rekursif dan akan berhenti sampai root bernilai none dan hasilnya akan disimpan di root.left\n",
        "      root.left = self.insert(root.left, data)\n",
        "    else :\n",
        "      # akan memanggil self.insert secara rekursif dan akan berhenti sampai root bernilai none dan hasilnya akan disimpan di root.right\n",
        "      root.right = self.insert(root.right, data)\n",
        "    # mengembalikan nilai dari root\n",
        "    return root\n",
        "\n",
        "# instansi object BinarySearchTree dan disimpan ke dalam variabel bst\n",
        "bst = BinarySearchTree()\n",
        "\n",
        "# mendefinisikan variabel root dengan nilai none mula - mula\n",
        "# digunakan untuk menyimpan tree\n",
        "root = None\n",
        "\n",
        "# mendefinisikan variabel data_list di isi dengan array yang nantinya datanya akan disimpan secara hirarkis\n",
        "# urutan variabel yang digunakan tiga digit terakhir, tanggal lahir, ascii huruf, dua angka bebas\n",
        "data_list = [digitNpm, tglLahir, bulanLahir, asciiF, asciiI, angkaBebas1, angkaBebas2]\n",
        "\n",
        "# melakukan looping setiap data dari data_list\n",
        "for value in data_list :\n",
        "\n",
        "  # data yang di looping di proses dalam bst.insert untuk menentukan level berapa data tersebut\n",
        "  root = bst.insert(root, value)\n",
        "\n",
        "\n",
        "# Mendefinisikan sebuah function inOrder yang digunakan untuk menelusuri\n",
        "def inOrder(node) :\n",
        "  # jika node nya tidak bernilai none\n",
        "  if node:\n",
        "    # memanggil inOrder secara rekursif dimana nilai parameter adalah node.left hingga nilai nya None\n",
        "    inOrder(node.left)\n",
        "    # menampilkan data\n",
        "    print(node.data, end=\" \")\n",
        "    # memanggil inOrder secara rekursif dimana nilai parameter adalah node.right hingga nilai nya None\n",
        "    inOrder(node.right)\n",
        "\n",
        "# Mendefinisikan sebuah function preOrder yang digunakan untuk menelusuri\n",
        "def preOrder(node):\n",
        "  # jika node nya tidak bernilai none\n",
        "  if node:\n",
        "    # menampilkan data\n",
        "    print(node.data, end=\" \")\n",
        "    # memanggil preOrder secara rekursif dimana nilai parameter adalah node.left hingga nilai nya None\n",
        "    preOrder(node.left)\n",
        "    # memanggil preOrder secara rekursif dimana nilai parameter adalah node.right hingga nilai nya None\n",
        "    preOrder(node.right)\n",
        "\n",
        "# Mendefinisikan sebuah function postOrder yang digunakan untuk menelusuri\n",
        "def postOrder(node) :\n",
        "  # jika node nya tidak bernilai none\n",
        "  if node:\n",
        "    # memanggil postOrder secara rekursif dimana nilai parameter adalah node.left hingga nilai nya None\n",
        "    postOrder(node.left)\n",
        "    # memanggil postOrder secara rekursif dimana nilai parameter adalah node.left hingga nilai nya None\n",
        "    postOrder(node.right)\n",
        "    # menampilkan data\n",
        "    print(node.data, end=\" \")\n",
        "\n",
        "# Menampilkan inorder traversal\n",
        "print(\"Inorder Traversal: \")\n",
        "# memanggil inOrder dengan nilai argumen root\n",
        "inOrder(root)\n",
        "# Menampilkan preOrder traversal\n",
        "print(\"\\nPreorder Traversal: \")\n",
        "# memanggil preOrder dengan nilai argumen root\n",
        "preOrder(root)\n",
        "# Menampilkan postOrder traversal\n",
        "print(\"\\nPostorder Traversal: \")\n",
        "# memanggil postOrder dengan nilai argumen root\n",
        "postOrder(root)\n",
        "\n",
        "print(\" \")\n",
        "print(\" \")\n",
        "\n",
        "# Mendefinisikan function search untuk mencari data dengan parameter node untuk menyimpan tree dan key untuk menyimpan kunci yang di cari\n",
        "def pencarianBST(node, key) :\n",
        "  # Jika nilai dari node kosong atau saat rekursif node.data nilainya sama dengan key\n",
        "  if node is None or node.data == key:\n",
        "    # jika nilai dari node saat rekursif terakhir None maka data yang di cari tidak ada dan mengembalikan nilai None\n",
        "    # jika nilai dari key ketemu maka return data yang di cari\n",
        "    return node\n",
        "\n",
        "  # jika nilai dari key lebih kecil dari node.data\n",
        "  if key < node.data :\n",
        "    # maka memanggil function search secara rekursif hingga nilai yang dikembalikan antara dari key yang ketemu hingga nilai dari node\n",
        "    # nilai yang di jadikan argumen adalah node.left\n",
        "    return pencarianBST(node.left, key)\n",
        "    # maka memanggil function search secara rekursif hingga nilai yang dikembalikan antara dari key yang ketemu hingga nilai dari node\n",
        "    # nilai yang di jadikan argumen adalah node.right\n",
        "  return pencarianBST(node.right, key)\n",
        "\n",
        "# key yang di cari\n",
        "key = 7\n",
        "\n",
        "# memanggil search dan nilai yang di kembalikan search akan di simpan di dalam search\n",
        "hasil = pencarianBST(root, key)\n",
        "\n",
        "# jika nilai dari hasil sebuah key maka\n",
        "if hasil :\n",
        "  # mengembalikan nilai\n",
        "  print(f\"{key} ditemukan dalam tree.\")\n",
        "  # jika tidak ada\n",
        "else :\n",
        "  print(f\"{key} tidak ditemukan.\")\n",
        "\n",
        "# key yang tidak ada tapi di cari\n",
        "key = 100\n",
        "\n",
        "# memanggil search dan nilai yang di kembalikan search akan di simpan di dalam search\n",
        "hasil = pencarianBST(root, key)\n",
        "\n",
        "# jika nilai dari result sebuah key maka\n",
        "if hasil :\n",
        "  # mengembalikan nilai\n",
        "  print(f\"{key} ditemukan dalam tree.\")\n",
        "  # jika tidak ada\n",
        "else :\n",
        "  print(f\"{key} tidak ditemukan.\")\n",
        "\n",
        "\n"
      ],
      "metadata": {
        "id": "8F9wOHGp_30y",
        "colab": {
          "base_uri": "https://localhost:8080/"
        },
        "outputId": "22b86ff0-23d5-49fe-8f8e-e375439c0f32"
      },
      "execution_count": null,
      "outputs": [
        {
          "output_type": "stream",
          "name": "stdout",
          "text": [
            "Inorder Traversal: \n",
            "1 7 7 12 14 70 73 \n",
            "Preorder Traversal: \n",
            "1 7 7 70 12 14 73 \n",
            "Postorder Traversal: \n",
            "14 12 73 70 7 7 1  \n",
            " \n",
            "7 ditemukan dalam tree.\n",
            "100 tidak ditemukan.\n"
          ]
        }
      ]
    }
  ]
}