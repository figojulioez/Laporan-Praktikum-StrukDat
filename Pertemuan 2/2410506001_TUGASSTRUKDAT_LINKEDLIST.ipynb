{
  "nbformat": 4,
  "nbformat_minor": 0,
  "metadata": {
    "colab": {
      "provenance": [],
      "authorship_tag": "ABX9TyOKUiXSyx0RYBZQzeoSnAy9",
      "include_colab_link": true
    },
    "kernelspec": {
      "name": "python3",
      "display_name": "Python 3"
    },
    "language_info": {
      "name": "python"
    }
  },
  "cells": [
    {
      "cell_type": "markdown",
      "metadata": {
        "id": "view-in-github",
        "colab_type": "text"
      },
      "source": [
        "<a href=\"https://colab.research.google.com/github/figojulioez/Laporan-Praktikum-StrukDat/blob/main/Pertemuan%202/2410506001_TUGASSTRUKDAT_LINKEDLIST.ipynb\" target=\"_parent\"><img src=\"https://colab.research.google.com/assets/colab-badge.svg\" alt=\"Open In Colab\"/></a>"
      ]
    },
    {
      "cell_type": "code",
      "execution_count": null,
      "metadata": {
        "colab": {
          "base_uri": "https://localhost:8080/"
        },
        "id": "kne3OUzlMgdt",
        "outputId": "c4482b5e-8556-412b-c2da-56f6015d1431"
      },
      "outputs": [
        {
          "output_type": "stream",
          "name": "stdout",
          "text": [
            "Masukan nama satpam ke-1: Figo\n",
            "Masukan nama satpam ke-2: Nawang\n",
            "Masukan nama satpam ke-3: Kartika\n",
            "Masukan nama satpam ke-4: Apfia\n",
            "\n",
            "Jadwal Piket Satpam Selama 2 Minggu :\n",
            "\n",
            "Hari 1: Figo\n",
            "Hari 2: Nawang\n",
            "Hari 3: Kartika\n",
            "Hari 4: Apfia\n",
            "Hari 5: Figo\n",
            "Hari 6: Nawang\n",
            "Hari 7: Kartika\n",
            "Hari 8: Apfia\n",
            "Hari 9: Figo\n",
            "Hari 10: Nawang\n",
            "Hari 11: Kartika\n",
            "Hari 12: Apfia\n",
            "Hari 13: Figo\n",
            "Hari 14: Nawang\n"
          ]
        }
      ],
      "source": [
        "# Membuat Node Satpam\n",
        "class satpamNode :\n",
        "  # Constructor class\n",
        "  def __init__(self, data) :\n",
        "    # Atribut yang digunakan untuk menyimpan datanya nanti\n",
        "    self.data = data\n",
        "    # Atribut yang digunakan untuk menyimpan data selanjutnya\n",
        "    self.next = None\n",
        "\n",
        "# Digunakan untuk membuat LinkedListCircular\n",
        "class satpamList :\n",
        "  # Pada saat di instansi classnya method ini berjalan\n",
        "  def __init__(self) :\n",
        "    # Saat awal awal self.head kosong\n",
        "    self.head = None\n",
        "\n",
        "  # Method menambah satpam\n",
        "  def tambahSatpam ( self, dataArray):\n",
        "    # Foreach array\n",
        "    for data in dataArray :\n",
        "      # Menginisiasi class baru\n",
        "      baru = satpamNode(data)\n",
        "      # Kalau self.head masih kosong\n",
        "      if not self.head :\n",
        "        # self.head referensi baru\n",
        "        self.head = baru\n",
        "        # lalu objek baru referensi self.head, maka otomatis baru mereferensi self head dan berputar putar\n",
        "        baru.next = self.head\n",
        "        # untuk keluar dari function\n",
        "      else :\n",
        "        # Asumsi jika kondisi diatas tidak terpenuhi maka self.head tidak kosong\n",
        "        # Current mereferensi self.head\n",
        "        current = self.head\n",
        "        # Akan terus berulang hingga ekor selanjutnya nilainya sama dengan self.head\n",
        "        while current.next != self.head :\n",
        "          # Mereferensi data selanjutnya di current\n",
        "          current = current.next\n",
        "        # Current.next ditambahkan data baru\n",
        "        current.next = baru\n",
        "        # Lalu data baru mereferensi ke self.head\n",
        "        baru.next = self.head\n",
        "\n",
        "  # Methid yang akan menampilkan dalam waktu minggu\n",
        "  def tampilkanBerapaMinggu(self, minggu) :\n",
        "    # Menghitung berapa minggu\n",
        "    minggu = 7 * minggu\n",
        "    # Untuk hari awalnya\n",
        "    hari = 1\n",
        "    # Referensi current ke self.head\n",
        "    current = self.head\n",
        "    print(\"\")\n",
        "    print(f\"Jadwal Piket Satpam Selama {int(minggu /7)} Minggu :\")\n",
        "    print(\"\")\n",
        "    while True :\n",
        "      # Jika minggu  sudah terlewat\n",
        "      if hari > minggu :\n",
        "        # kELUAR PROGRAM\n",
        "        break\n",
        "\n",
        "      # Menampilkan Output\n",
        "      print(f\"Hari {hari}: {current.data}\")\n",
        "      # Berpindah ke ekor selanjutnya\n",
        "      current = current.next\n",
        "      # Menambah hari\n",
        "      hari += 1\n",
        "\n",
        "# Array Satpam\n",
        "# Ini artinya dia akan berulan sebanyak 4 kali dan datanya akan di simpan di arrSatpam\n",
        "# Shortcut\n",
        "arrSatpam = [str(input(f\"Masukan nama satpam ke-{i + 1}: \")) for i in range(4)]\n",
        "# Inisiasi\n",
        "linkedListSatpam = satpamList()\n",
        "# Menambah satpam paramter dalam bentuk array biar mudah\n",
        "linkedListSatpam.tambahSatpam(arrSatpam)\n",
        "# Menampilkan dalam 2 minggu\n",
        "linkedListSatpam.tampilkanBerapaMinggu(2)"
      ]
    }
  ]
}