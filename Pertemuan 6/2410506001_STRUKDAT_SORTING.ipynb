{
  "nbformat": 4,
  "nbformat_minor": 0,
  "metadata": {
    "colab": {
      "provenance": [],
      "authorship_tag": "ABX9TyMWNgetH9922XMvyTiXQTKQ",
      "include_colab_link": true
    },
    "kernelspec": {
      "name": "python3",
      "display_name": "Python 3"
    },
    "language_info": {
      "name": "python"
    }
  },
  "cells": [
    {
      "cell_type": "markdown",
      "metadata": {
        "id": "view-in-github",
        "colab_type": "text"
      },
      "source": [
        "<a href=\"https://colab.research.google.com/github/figojulioez/Laporan-Praktikum-StrukDat/blob/main/Pertemuan%206/2410506001_STRUKDAT_SORTING.ipynb\" target=\"_parent\"><img src=\"https://colab.research.google.com/assets/colab-badge.svg\" alt=\"Open In Colab\"/></a>"
      ]
    },
    {
      "cell_type": "markdown",
      "source": [
        "# Bubble Sort"
      ],
      "metadata": {
        "id": "ReLH0DA_a99U"
      }
    },
    {
      "cell_type": "code",
      "execution_count": 1,
      "metadata": {
        "colab": {
          "base_uri": "https://localhost:8080/"
        },
        "id": "nOGsxXoTVvE5",
        "outputId": "e4ce6878-4600-4e8a-e334-3c30068e702b"
      },
      "outputs": [
        {
          "output_type": "stream",
          "name": "stdout",
          "text": [
            "[34, 64, 25, 12, 22, 11, 90]\n",
            "[34, 25, 64, 12, 22, 11, 90]\n",
            "[34, 25, 12, 64, 22, 11, 90]\n",
            "[34, 25, 12, 22, 64, 11, 90]\n",
            "[34, 25, 12, 22, 11, 64, 90]\n",
            "[25, 34, 12, 22, 11, 64, 90]\n",
            "[25, 12, 34, 22, 11, 64, 90]\n",
            "[25, 12, 22, 34, 11, 64, 90]\n",
            "[25, 12, 22, 11, 34, 64, 90]\n",
            "[12, 25, 22, 11, 34, 64, 90]\n",
            "[12, 22, 25, 11, 34, 64, 90]\n",
            "[12, 22, 11, 25, 34, 64, 90]\n",
            "[12, 11, 22, 25, 34, 64, 90]\n",
            "[11, 12, 22, 25, 34, 64, 90]\n",
            "Data sebelum sorting: [64, 34, 25, 12, 22, 11, 90]\n",
            "Data setelah Bubble Sort: [11, 12, 22, 25, 34, 64, 90]\n"
          ]
        }
      ],
      "source": [
        "# Mendefinisikan sebuah function\n",
        "def bubble_sort(arr) :\n",
        "\n",
        "    # n bernilai panjang dari array tersebut\n",
        "    n = len(arr)\n",
        "\n",
        "    # melakukan perulangan setiap indeks array - 1\n",
        "    # jadi jika data berjumlah 6 maka akan melakukan looping dari 0 - 4\n",
        "    for i in range(n - 1):\n",
        "\n",
        "        # Akan melakukan looping sebanyak n - looping pertama - 1\n",
        "        # Jika pada looping i ke 2 maka 6 - 2 -1 yang artinya looping dari 0 - 2\n",
        "        for j in range(n - i - 1):\n",
        "            # Jika elemen indeks ke j lebih besar dari elemen sebelumnya\n",
        "            if arr[j] > arr[j + 1]:\n",
        "                # geser indeks j dan indeks j + 1\n",
        "                # Yang artinya jika j lebih besar dari j + 1 maka data yang lebih besar bergeser ke kanan dan data yang lebih kecil bergeser ke kiri\n",
        "                arr[j], arr[j + 1] = arr[j + 1], arr[j]\n",
        "                print(arr)\n",
        "    # Mengembalikan dari nilai yang sudah di urutkan\n",
        "    return arr\n",
        "\n",
        "# Contoh Penggunaan\n",
        "data = [64, 34, 25, 12, 22, 11, 90]\n",
        "sorted_data = bubble_sort(data.copy())\n",
        "\n",
        "print(\"Data sebelum sorting:\", data)\n",
        "print(\"Data setelah Bubble Sort:\", sorted_data)\n"
      ]
    },
    {
      "cell_type": "markdown",
      "source": [
        "# Selection Sort"
      ],
      "metadata": {
        "id": "ywpvVarwa9C1"
      }
    },
    {
      "cell_type": "code",
      "source": [
        "# Mendefinisikan sebuah fungsi bernama selection_sort\n",
        "def selection_sort(arr):\n",
        "  # Mendefinisikan panjang array\n",
        "  n = len(arr)\n",
        "  # Melakukan looping sebanyak n - 1\n",
        "  # jika n = 5 maka akan melakukan looping dari 0 - 3\n",
        "  for i in range(n - 1):\n",
        "    # Menyimpan indeks ke - i terlebih dahulul\n",
        "    min_index = i\n",
        "\n",
        "    # Lalu melakukan looping dari indeks setelahnya atau i + sampai dengan panjang array\n",
        "    for j in range(i + 1, n):\n",
        "\n",
        "      # Jika pada indeks ke j ditemukan datanya lebih kecil dari min_index\n",
        "      if arr[j] < arr[min_index]:\n",
        "        # Maka akan menyimpan indeks dari data yang lebih kecil\n",
        "        # Looping akan dilakukan sampai tidak ada lagi data yang lebih kecil dari index ke min_index\n",
        "        min_index = j\n",
        "    # Memindahkan data pada indeks ke i ke tempat indeks ke min_indeks begitu juga sebaliknya\n",
        "    arr[i], arr [min_index] = arr[min_index], arr[i]\n",
        "  # Mengembalikan nilai dari arr yang sudah di urutkan\n",
        "  return arr\n",
        "\n",
        "# Contoh Penggunaan\n",
        "data = [64, 25, 12, 22, 11]\n",
        "sorted_data = selection_sort(data.copy())\n",
        "print(\"Data sebelum sorting:\", data)\n",
        "print(\"Data setelah Selection Sort:\", sorted_data)"
      ],
      "metadata": {
        "colab": {
          "base_uri": "https://localhost:8080/"
        },
        "id": "6KeLV1aZbDWc",
        "outputId": "d81f3dd8-c0d6-4ea0-c5ea-ec84535eabf0"
      },
      "execution_count": 2,
      "outputs": [
        {
          "output_type": "stream",
          "name": "stdout",
          "text": [
            "Data sebelum sorting: [64, 25, 12, 22, 11]\n",
            "Data setelah Selection Sort: [11, 12, 22, 25, 64]\n"
          ]
        }
      ]
    },
    {
      "cell_type": "markdown",
      "source": [
        "# Insertion Sort"
      ],
      "metadata": {
        "id": "OKpzoFS9bzF0"
      }
    },
    {
      "cell_type": "code",
      "source": [
        "# Mendefinisikan sebuah function bernama insertion_sort dengan parameter arr\n",
        "def insertion_sort(arr):\n",
        "\n",
        "  # Mendefinisikan panjang dari array tersebut\n",
        "  n = len(arr)\n",
        "\n",
        "  # melakukan looping sebanyak 1 - panjang array\n",
        "  for i in range(1,n) :\n",
        "    # Memilih sebuah kunci yang nantinya akan dibandingkan dengan indeks - indeks sebelumnya\n",
        "    key = arr[i]\n",
        "    # berfungsi untuk menyimpan indeks sebelumnya dari indeks i\n",
        "    j = i - 1\n",
        "\n",
        "    # Melakukan looping selagi kondisi indeks j >= 0 dan arr indeks ke j lebih besar dari key.\n",
        "    while j >= 0 and arr[j] > key:\n",
        "\n",
        "      # Jika indeks sebelumnya lebih besar maka indeks setelahnya akan ditukar dengan nilai indeks ke j\n",
        "      arr[j + 1] = arr[j]\n",
        "      # Mengurangi indeks ke j yang artinya akan melakukan pengecekan apakah indeks sebelumnya juga lebih besar dari key\n",
        "      j -= 1\n",
        "\n",
        "    # Looping akan berakhir jika indeks j = -1 atau nilai dari j lebih kecil dari key\n",
        "    # Oleh sebab itu jika looping berakhir, maka nilai dari j yang sudah kondisi 1 sebanyak beberapa kondisi terpenuhi akan menyimpan key tersebut\n",
        "    arr[j + 1] = key\n",
        "\n",
        "  return arr\n",
        "\n",
        "# Contoh Penggunaan\n",
        "\n",
        "data = [64, 34, 25, 12, 22, 11, 90]\n",
        "sorted_data = insertion_sort (data.copy())\n",
        "print(\"Data sebelum sorting:\", data)\n",
        "print(\"Data setelah Insertion Sort:\", sorted_data)"
      ],
      "metadata": {
        "colab": {
          "base_uri": "https://localhost:8080/"
        },
        "id": "E8OVU_ajbyhM",
        "outputId": "bb1013af-a006-4ee4-eea4-4c9226b13c37"
      },
      "execution_count": 3,
      "outputs": [
        {
          "output_type": "stream",
          "name": "stdout",
          "text": [
            "Data sebelum sorting: [64, 34, 25, 12, 22, 11, 90]\n",
            "Data setelah Insertion Sort: [11, 12, 22, 25, 34, 64, 90]\n"
          ]
        }
      ]
    },
    {
      "cell_type": "markdown",
      "source": [
        "# Merge Sort"
      ],
      "metadata": {
        "id": "UgJzPt5ncQkF"
      }
    },
    {
      "cell_type": "code",
      "source": [
        "# Membuat sebuah fungsi\n",
        "def merge_sort(arr):\n",
        "  # Jika panjang arr parameter masih lebih besar dari satu maka akan menjalankan aksi - aksi\n",
        "  if len(arr) > 1:\n",
        "    # Membagi panjang array dengan 2 bilangan bulat\n",
        "    mid = len(arr) // 2\n",
        "\n",
        "    # Dari indeks 0 samppai mid di bagi ke kiri\n",
        "    left_half = arr[:mid]\n",
        "\n",
        "    # dari indeks mid sampai indeks terakhir di bagi ke kanan\n",
        "    right_half = arr [mid:]\n",
        "\n",
        "    # memecah array sebelah kiri secara rekursif\n",
        "    # array akan berhenti dipecah saat panjang dari array yang di pecah = 1\n",
        "    merge_sort(left_half)\n",
        "\n",
        "    # memecah array sebelah kanan secara rekursif\n",
        "    # array akan berhenti dipecah saat panjang dari array yang di pecah = 1\n",
        "    merge_sort(right_half)\n",
        "\n",
        "    # Mendefinisikan variabel yang nantinya akan digunakan sebagai indeks\n",
        "    # variabel i untuk indeks left_half\n",
        "    # variabel j untuk indeks right_half\n",
        "    # variabel k untuk indeks arr\n",
        "    i = j = k = 0\n",
        "\n",
        "    # Looping akan dijalankan sampai salah satu array baik sebelah kiri dan kanan selesai diproses\n",
        "    # Selesai diproses artinya salah satu dari indeks i atau indeks j nilainya sama dengan panjang array tersebut.\n",
        "    while i < len(left_half) and j < len(right_half):\n",
        "\n",
        "      # Jika array sebelah kiri indeks ke i nilainya lebih kecil dari array sebelah kanan indeks ke j\n",
        "      if left_half[i] < right_half[j]:\n",
        "        # Maka arr indeks ke k nilainya adalah array sebelah kiri indeks ke i\n",
        "        arr[k] = left_half[i]\n",
        "        # Lalu akan menambahkan kedua indeks tersebut untuk proses selanjutnya\n",
        "        i += 1\n",
        "        k += 1\n",
        "      else:\n",
        "        # Tetapi jika tidak maka nilai dari arr indeks ke k adalah array sebelah kanan indeks ke j\n",
        "        arr[k] = right_half[j]\n",
        "\n",
        "        # Dan menambahkan kedua variabel tersebut untuk proses array indeks selanjutnya\n",
        "        j += 1\n",
        "        k += 1\n",
        "\n",
        "    # Akan melakukan looping selagi nilai dari i tidak sama dengan panjang array sebelah kiri\n",
        "    while i < len(left_half):\n",
        "      # maka arr indeks ke k akan di isi nilainya dengan array sebelah kiri indeks ke i\n",
        "      arr[k] = left_half[i]\n",
        "\n",
        "      # menambahkan variabel i dan k untuk proses array indeks selanjutnya\n",
        "      i += 1\n",
        "      k += 1\n",
        "\n",
        "    # Akan melakukan looping selagi nilai dari j tidak sama dengan panjang array sebelah kanan\n",
        "    while j < len(right_half):\n",
        "      # maka arr indeks ke k akan di isi nilainya dengan array sebelah kanan indeks ke j\n",
        "      arr[k] = right_half[j]\n",
        "\n",
        "      # menambahkan variabel j dan k untuk proses array indeks selanjutnya\n",
        "      j += 1\n",
        "      k += 1\n",
        "\n",
        "    return arr\n",
        "\n",
        "# Contoh penggunaan\n",
        "data = [11, 25, 12, 22, 64]\n",
        "sorted_data = merge_sort(data.copy())\n",
        "print(\"Data sebelum sorting:\", data)\n",
        "print(\"Data setelah Merge Sort:\", sorted_data)"
      ],
      "metadata": {
        "colab": {
          "base_uri": "https://localhost:8080/"
        },
        "id": "zotKbyEocQWl",
        "outputId": "c7e853b5-649a-4826-d6f7-bb94e9266c0b"
      },
      "execution_count": 4,
      "outputs": [
        {
          "output_type": "stream",
          "name": "stdout",
          "text": [
            "Data sebelum sorting: [11, 25, 12, 22, 64]\n",
            "Data setelah Merge Sort: [11, 12, 22, 25, 64]\n"
          ]
        }
      ]
    },
    {
      "cell_type": "markdown",
      "source": [
        "# Quick Sort"
      ],
      "metadata": {
        "id": "8cZxqP-qdw01"
      }
    },
    {
      "cell_type": "code",
      "source": [
        "\n",
        "# Mendefinisikan sebuah fungsi\n",
        "def quick_sort(arr) :\n",
        "  # Jika panjang array = 1 atau lebih kecil\n",
        "  if len(arr) <= 1:\n",
        "    # Maka akan mengembalikan array itu sendiri\n",
        "    return arr\n",
        "\n",
        "  # Memilih pivot yang nantinya akan digunakan sebagai perbandingan\n",
        "  pivot = arr[len(arr) // 2]\n",
        "\n",
        "  # Apabila nilai nya lebih kecil dari pivot maka akan dipindahkan ke sebelah kiri\n",
        "  left = [x for x in arr if x < pivot]\n",
        "  # Apabila nilainya sama dengan pivot maka akan mengembalikan pivot itu sendiri\n",
        "  middle = [x for x in arr if x == pivot]\n",
        "  # Apabila nilainya lebih besar dari pivot maka akan dipindahkan ke sebelah kanan\n",
        "  right = [x for x in arr if x > pivot]\n",
        "\n",
        "  # Mengembalikan rekursif dari array sebelah kiri pivot dan array sebelah kanan\n",
        "  return quick_sort(left) + middle + quick_sort(right)\n",
        "\n",
        "# Contoh Penggunaan\n",
        "data = [64, 25, 12, 22, 11]\n",
        "sorted_data = quick_sort(data.copy())\n",
        "print(\"Data sebelum sorting:\", data)\n",
        "print(\"Data setelah Quick Sort:\", sorted_data)\n"
      ],
      "metadata": {
        "colab": {
          "base_uri": "https://localhost:8080/"
        },
        "id": "cDvZ0Gj8dPVF",
        "outputId": "db95391c-9726-4bd6-d914-909bde2489ce"
      },
      "execution_count": 5,
      "outputs": [
        {
          "output_type": "stream",
          "name": "stdout",
          "text": [
            "Data sebelum sorting: [64, 25, 12, 22, 11]\n",
            "Data setelah Quick Sort: [11, 12, 22, 25, 64]\n"
          ]
        }
      ]
    },
    {
      "cell_type": "markdown",
      "source": [
        "# Tugas atau Latihan"
      ],
      "metadata": {
        "id": "6hlaA5zpeOHM"
      }
    },
    {
      "cell_type": "code",
      "source": [
        "# Untuk membuat tabel agar lebih mudah\n",
        "import pandas as pd\n",
        "\n",
        "# Menyiapkan sebuah data yang nantinya akan diurutkan\n",
        "data = {\n",
        "    \"data1\" : {\n",
        "        'nama' : \"Julioez\",\n",
        "        'umur' : 19,\n",
        "        \"totalBelanja\" : 12000\n",
        "    },\n",
        "    \"data2\" : {\n",
        "        'nama' : \"Candita\",\n",
        "        'umur' : 21,\n",
        "        \"totalBelanja\" : 32000\n",
        "    },\n",
        "    \"data3\" : {\n",
        "        'nama' : \"Haga\",\n",
        "        'umur' : 12,\n",
        "        \"totalBelanja\" : 112000\n",
        "    },\n",
        "    \"data4\" : {\n",
        "        'nama' : \"Figo\",\n",
        "        'umur' : 15,\n",
        "        \"totalBelanja\" : 112000\n",
        "    },\n",
        "    \"data5\" : {\n",
        "        'nama' : \"Latupeirissa\",\n",
        "        'umur' : 9,\n",
        "        \"totalBelanja\" : 120000\n",
        "    }\n",
        "}\n",
        "data"
      ],
      "metadata": {
        "colab": {
          "base_uri": "https://localhost:8080/"
        },
        "id": "INv8JorFaRz6",
        "outputId": "10802682-3d58-4fc7-b303-e584b180b577"
      },
      "execution_count": 6,
      "outputs": [
        {
          "output_type": "execute_result",
          "data": {
            "text/plain": [
              "{'data1': {'nama': 'Julioez', 'umur': 19, 'totalBelanja': 12000},\n",
              " 'data2': {'nama': 'Candita', 'umur': 21, 'totalBelanja': 32000},\n",
              " 'data3': {'nama': 'Haga', 'umur': 12, 'totalBelanja': 112000},\n",
              " 'data4': {'nama': 'Figo', 'umur': 15, 'totalBelanja': 112000},\n",
              " 'data5': {'nama': 'Latupeirissa', 'umur': 9, 'totalBelanja': 120000}}"
            ]
          },
          "metadata": {},
          "execution_count": 6
        }
      ]
    },
    {
      "cell_type": "code",
      "source": [
        "# Membuat sebuah fungsi untuk menampilkan data agar terlihat lebih rapih\n",
        "def tabel(dataset) :\n",
        "  # Total kata setiap field\n",
        "  total = 20;\n",
        "  # untuk total looping nantinya\n",
        "  x = 1\n",
        "  z = 0\n",
        "\n",
        "  # Melakukukan looping untuk setiap kolom\n",
        "  for i in dataset :\n",
        "    # jika x = 1 berarti mendefinisikan kolom\n",
        "    if x == 1:\n",
        "      # menampilkan seluruh kolom terlebih dahulu\n",
        "      for y in dataset[i] :\n",
        "        print(y.center(total), end=\"* \")\n",
        "      print(\"\")\n",
        "      print(\"*\" * 65)\n",
        "      x += 1\n",
        "    # jika x - 2 berarti mendefinisikan baris isi\n",
        "    if x == 2:\n",
        "      for y in dataset[i] :\n",
        "        string = f\"{dataset[i][y]}\".center(total)\n",
        "        print(string, end=\"* \")\n",
        "      print(\"\")\n",
        "tabel(data)\n"
      ],
      "metadata": {
        "colab": {
          "base_uri": "https://localhost:8080/"
        },
        "id": "GjlsoG6peL1Z",
        "outputId": "c6ccfe2c-1849-4e3b-adf3-21fa6f33ce18"
      },
      "execution_count": 19,
      "outputs": [
        {
          "output_type": "stream",
          "name": "stdout",
          "text": [
            "        nama        *         umur        *     totalBelanja    * \n",
            "*****************************************************************\n",
            "      Julioez       *          19         *        12000        * \n",
            "      Candita       *          21         *        32000        * \n",
            "        Haga        *          12         *        112000       * \n",
            "        Figo        *          15         *        112000       * \n",
            "    Latupeirissa    *          9          *        120000       * \n"
          ]
        }
      ]
    },
    {
      "cell_type": "code",
      "source": [
        "# Membuat sebuah fungsi\n",
        "def merge_sort(arr, index):\n",
        "  # Jika panjang arr parameter masih lebih besar dari satu maka akan menjalankan aksi - aksi\n",
        "  if len(arr) > 1:\n",
        "    # Membagi panjang array dengan 2 bilangan bulat\n",
        "    mid = len(arr) // 2\n",
        "\n",
        "    # Dari indeks 0 samppai mid di bagi ke kiri\n",
        "    left_half = arr[:mid]\n",
        "\n",
        "    # dari indeks mid sampai indeks terakhir di bagi ke kanan\n",
        "    right_half = arr [mid:]\n",
        "\n",
        "    # membagi key nya juga\n",
        "    index_kiri = index[:mid]\n",
        "    index_kanan = index[mid:]\n",
        "\n",
        "\n",
        "\n",
        "    # memecah array sebelah kiri secara rekursif\n",
        "    # array akan berhenti dipecah saat panjang dari array yang di pecah = 1\n",
        "    merge_sort(left_half, index_kiri)\n",
        "\n",
        "    # memecah array sebelah kanan secara rekursif\n",
        "    # array akan berhenti dipecah saat panjang dari array yang di pecah = 1\n",
        "    merge_sort(right_half, index_kanan)\n",
        "\n",
        "\n",
        "\n",
        "\n",
        "    # Mendefinisikan variabel yang nantinya akan digunakan sebagai indeks\n",
        "    # variabel i untuk indeks left_half\n",
        "    # variabel j untuk indeks right_half\n",
        "    # variabel k untuk indeks arr\n",
        "    i = j = k = 0\n",
        "\n",
        "    # Looping akan dijalankan sampai salah satu array baik sebelah kiri dan kanan selesai diproses\n",
        "    # Selesai diproses artinya salah satu dari indeks i atau indeks j nilainya sama dengan panjang array tersebut.\n",
        "    while i < len(left_half) and j < len(right_half):\n",
        "\n",
        "      # Jika array sebelah kiri indeks ke i nilainya lebih kecil dari array sebelah kanan indeks ke j\n",
        "      if left_half[i] < right_half[j]:\n",
        "        # Maka arr indeks ke k nilainya adalah array sebelah kiri indeks ke i\n",
        "        arr[k] = left_half[i]\n",
        "        # mengurutkan key dictionarynya\n",
        "        index[k] = index_kiri[i]\n",
        "        # Lalu akan menambahkan kedua indeks tersebut untuk proses selanjutnya\n",
        "        i += 1\n",
        "        k += 1\n",
        "      else:\n",
        "        # Tetapi jika tidak maka nilai dari arr indeks ke k adalah array sebelah kanan indeks ke j\n",
        "        arr[k] = right_half[j]\n",
        "        # Mengurutkan keynya\n",
        "        index[k] = index_kanan[j]\n",
        "        # Dan menambahkan kedua variabel tersebut untuk proses array indeks selanjutnya\n",
        "        j += 1\n",
        "        k += 1\n",
        "\n",
        "    # Akan melakukan looping selagi nilai dari i tidak sama dengan panjang array sebelah kiri\n",
        "    while i < len(left_half):\n",
        "      # maka arr indeks ke k akan di isi nilainya dengan array sebelah kiri indeks ke i\n",
        "      arr[k] = left_half[i]\n",
        "\n",
        "      # menata ulang posisi yang tersisa\n",
        "      index[k] = index_kiri[i]\n",
        "\n",
        "      # menambahkan variabel i dan k untuk proses array indeks selanjutnya\n",
        "      i += 1\n",
        "      k += 1\n",
        "\n",
        "    # Akan melakukan looping selagi nilai dari j tidak sama dengan panjang array sebelah kanan\n",
        "    while j < len(right_half):\n",
        "      # maka arr indeks ke k akan di isi nilainya dengan array sebelah kanan indeks ke j\n",
        "      arr[k] = right_half[j]\n",
        "\n",
        "      # menata ulang posisi yang tersisa\n",
        "      index[k] = index_kanan[j]\n",
        "\n",
        "      # menambahkan variabel j dan k untuk proses array indeks selanjutnya\n",
        "      j += 1\n",
        "      k += 1\n",
        "\n",
        "\n",
        "    return index\n",
        "\n",
        "\n",
        "\n",
        "\n",
        "\n",
        "\n"
      ],
      "metadata": {
        "id": "iAFG8d3rhx-q"
      },
      "execution_count": 26,
      "outputs": []
    },
    {
      "cell_type": "code",
      "source": [
        "while True :\n",
        "  print(\"\")\n",
        "  tabel(data)\n",
        "  print(\"*\" * 70)\n",
        "  print(\"Urutkan Bedasarkan :\")\n",
        "  print(\"1. Nama\")\n",
        "  print(\"2. Umur\")\n",
        "  print(\"3. Total Belanja\")\n",
        "  print(\"4. Keluar\")\n",
        "  pilihan = int(input(\"Pilih pilihan anda : \"))\n",
        "  if (pilihan == 1) :\n",
        "    # Mendefinsikan data yang akan di urutkan\n",
        "    test = [data[i][\"nama\"] for i in data]\n",
        "    # Mendefinsikan indeks dictionary atau key tersebut\n",
        "    index = [i for i in data]\n",
        "    data = {f\"{_}\" : data[_] for _ in merge_sort(test, index)}\n",
        "  elif pilihan == 2 :\n",
        "    # Mendefinsikan data yang akan di urutkan\n",
        "    test = [data[i][\"umur\"] for i in data]\n",
        "    # Mendefinsikan indeks dictionary atau key tersebut\n",
        "    index = [i for i in data]\n",
        "    data = {f\"{_}\" : data[_] for _ in merge_sort(test, index)}\n",
        "  elif pilihan == 3:\n",
        "    # Mendefinsikan data yang akan di urutkan\n",
        "    test = [data[i][\"totalBelanja\"] for i in data]\n",
        "    # Mendefinsikan indeks dictionary atau key tersebut\n",
        "    index = [i for i in data]\n",
        "    data = {f\"{_}\" : data[_] for _ in merge_sort(test, index)}\n",
        "  elif pilihan == 4 :\n",
        "    break\n",
        "\n"
      ],
      "metadata": {
        "colab": {
          "base_uri": "https://localhost:8080/"
        },
        "id": "9JA_AcjfviDC",
        "outputId": "a2fdebe1-65c0-4a94-f571-5366e1a3ab30"
      },
      "execution_count": 27,
      "outputs": [
        {
          "name": "stdout",
          "output_type": "stream",
          "text": [
            "\n",
            "        nama        *         umur        *     totalBelanja    * \n",
            "*****************************************************************\n",
            "      Julioez       *          19         *        12000        * \n",
            "      Candita       *          21         *        32000        * \n",
            "        Figo        *          15         *        112000       * \n",
            "        Haga        *          12         *        112000       * \n",
            "    Latupeirissa    *          9          *        120000       * \n",
            "**********************************************************************\n",
            "Urutkan Bedasarkan :\n",
            "1. Nama\n",
            "2. Umur\n",
            "3. Total Belanja\n",
            "4. Keluar\n",
            "Pilih pilihan anda : 1\n",
            "\n",
            "        nama        *         umur        *     totalBelanja    * \n",
            "*****************************************************************\n",
            "      Candita       *          21         *        32000        * \n",
            "        Figo        *          15         *        112000       * \n",
            "        Haga        *          12         *        112000       * \n",
            "      Julioez       *          19         *        12000        * \n",
            "    Latupeirissa    *          9          *        120000       * \n",
            "**********************************************************************\n",
            "Urutkan Bedasarkan :\n",
            "1. Nama\n",
            "2. Umur\n",
            "3. Total Belanja\n",
            "4. Keluar\n",
            "Pilih pilihan anda : 2\n",
            "\n",
            "        nama        *         umur        *     totalBelanja    * \n",
            "*****************************************************************\n",
            "    Latupeirissa    *          9          *        120000       * \n",
            "        Haga        *          12         *        112000       * \n",
            "        Figo        *          15         *        112000       * \n",
            "      Julioez       *          19         *        12000        * \n",
            "      Candita       *          21         *        32000        * \n",
            "**********************************************************************\n",
            "Urutkan Bedasarkan :\n",
            "1. Nama\n",
            "2. Umur\n",
            "3. Total Belanja\n",
            "4. Keluar\n",
            "Pilih pilihan anda : 3\n",
            "\n",
            "        nama        *         umur        *     totalBelanja    * \n",
            "*****************************************************************\n",
            "      Julioez       *          19         *        12000        * \n",
            "      Candita       *          21         *        32000        * \n",
            "        Figo        *          15         *        112000       * \n",
            "        Haga        *          12         *        112000       * \n",
            "    Latupeirissa    *          9          *        120000       * \n",
            "**********************************************************************\n",
            "Urutkan Bedasarkan :\n",
            "1. Nama\n",
            "2. Umur\n",
            "3. Total Belanja\n",
            "4. Keluar\n",
            "Pilih pilihan anda : 4\n"
          ]
        }
      ]
    }
  ]
}