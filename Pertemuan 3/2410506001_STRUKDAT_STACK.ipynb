{
  "nbformat": 4,
  "nbformat_minor": 0,
  "metadata": {
    "colab": {
      "provenance": [],
      "authorship_tag": "ABX9TyN/g+xJh2P5fuaJs+wdVeQf",
      "include_colab_link": true
    },
    "kernelspec": {
      "name": "python3",
      "display_name": "Python 3"
    },
    "language_info": {
      "name": "python"
    }
  },
  "cells": [
    {
      "cell_type": "markdown",
      "metadata": {
        "id": "view-in-github",
        "colab_type": "text"
      },
      "source": [
        "<a href=\"https://colab.research.google.com/github/figojulioez/Laporan-Praktikum-StrukDat/blob/main/Pertemuan%203/2410506001_STRUKDAT_STACK.ipynb\" target=\"_parent\"><img src=\"https://colab.research.google.com/assets/colab-badge.svg\" alt=\"Open In Colab\"/></a>"
      ]
    },
    {
      "cell_type": "code",
      "source": [
        "class TextEditor :\n",
        "  def __init__(self) :\n",
        "    self.history = []\n",
        "\n",
        "  def write(self, text) :\n",
        "    self.history.append(text)\n",
        "\n",
        "  def undo(self) :\n",
        "    if self.history:\n",
        "      return f\"Undo : menghapus '{self.history.pop()}'\"\n",
        "    return \"Tidak ada yang bisa di-undo\"\n",
        "# contoh penggunaan\n",
        "editor = TextEditor()\n",
        "editor.write(\"Halo, ini teks pertama.\")\n",
        "editor.write(\"Ini teks kedua.\")\n",
        "editor.write(\"Ini teks ketiga.\")\n",
        "\n",
        "print(editor.undo())\n",
        "print(editor.undo())"
      ],
      "metadata": {
        "colab": {
          "base_uri": "https://localhost:8080/"
        },
        "id": "0x21_aqCSO9S",
        "outputId": "cf67808a-a1fc-4cdf-cbb2-0cbe0e0556af"
      },
      "execution_count": null,
      "outputs": [
        {
          "output_type": "stream",
          "name": "stdout",
          "text": [
            "Undo : menghapus 'Ini teks ketiga.'\n",
            "Undo : menghapus 'Ini teks kedua.'\n"
          ]
        }
      ]
    },
    {
      "cell_type": "markdown",
      "source": [
        "# Latihan 1\n",
        "Buatlah program \"Undo Perintah Kalkulator\", di mana setiap operasi matematika\n",
        "yang dilakukan disimpan dalam Stack. Jika pengguna menekan Undo, operasi\n",
        "terakhir dibatalkan. Gunakan dua digit terakhir NPM sebagai angka awal. Lakukan\n",
        "minimal 3 operasi matematika sebelum menguji fitur Undo."
      ],
      "metadata": {
        "id": "mK9U_zxE785T"
      }
    },
    {
      "cell_type": "code",
      "source": [
        "# Membuat class Operasi Kalkulator\n",
        "class OperasiKalkulator :\n",
        "  # Method Constructor, method pertama yang di jalankan\n",
        "  def __init__(self) :\n",
        "    # menyimpan nilai dari operasi aritmatika\n",
        "    self.historyKalkulator = []\n",
        "    # Karena disini 2 digit npm terakhir saya 0 dan 1\n",
        "    self.angka1 = 0\n",
        "    self.angka2 = 1\n",
        "  # Method yang akan digunakan untuk memasukan data operasi\n",
        "  def tambahAritmatika(self, text) :\n",
        "    self.historyKalkulator.append(text)\n",
        "\n",
        "  # Method yang akan digunakan untuk melakukan undo\n",
        "  def undo(self) :\n",
        "    # Jika self.historyKalkulator memiliki nilai maka\n",
        "    if self.historyKalkulator:\n",
        "      # Akan menghapus nilai terakhir dari kalkulator tersebut\n",
        "      return f\"Undo : menghapus '{self.historyKalkulator.pop()}'\"\n",
        "    # Jika tidak ada maka jalankan perintah ini\n",
        "    return \"Tidak ada yang bisa di-undo\"\n",
        "\n",
        "  # Method untuk menampilkan hasil\n",
        "  def hasil(self) :\n",
        "    # Karena stack menggunakan konsep lifo jadi saya balik untuk perulangan\n",
        "    # yang mana stack terakhir pertama kali keluar\n",
        "    hasil = [self.historyKalkulator[_] for _ in range(len(self.historyKalkulator) - 1, -1, -1)]\n",
        "    # setelah data dibalik maka akan melakukan looping satu persatu\n",
        "    for i in self.historyKalkulator :\n",
        "      # Disini saya menggunakan operasi kondisional supaya kode lebih ringkas\n",
        "      # Untuk menentukan operator artimatika apa yang ada\n",
        "      nilai = (self.angka1 + self.angka2) if i == \"+\" else (self.angka1 - self.angka2) if i == \"-\" else (self.angka1 * self.angka2) if i == \"*\" else (self.angka1 / self.angka2) if i == \"/\" else \"tidak ada\"\n",
        "      print(f\"Hasil dari {self.angka1} {i} {self.angka2} adalah {nilai}\")\n",
        "# contoh penggunaan atau inisiasi objek\n",
        "kalkulator = OperasiKalkulator()\n",
        "\n",
        "# menambahkan data dengan method werite\n",
        "kalkulator.tambahAritmatika(\"+\")\n",
        "kalkulator.tambahAritmatika(\"*\")\n",
        "kalkulator.tambahAritmatika(\"/\")\n",
        "kalkulator.tambahAritmatika(\"-\")\n",
        "kalkulator.tambahAritmatika(\"+\")\n",
        "kalkulator.tambahAritmatika(\"-\")\n",
        "\n",
        "\n",
        "# Tidak jadi menambahkan operasi \"-\"\n",
        "print(kalkulator.undo())\n",
        "# Tidak jadi menambahkan operasi \"+\"\n",
        "print(kalkulator.undo())\n",
        "\n",
        "# Menampilkan hasilnya\n",
        "kalkulator.hasil()\n",
        "\n",
        "\n",
        "\n"
      ],
      "metadata": {
        "colab": {
          "base_uri": "https://localhost:8080/"
        },
        "id": "sUQfnrJQTvWR",
        "outputId": "c787c470-e3a7-4b96-a43b-3ebb6cf38956"
      },
      "execution_count": null,
      "outputs": [
        {
          "output_type": "stream",
          "name": "stdout",
          "text": [
            "Undo : menghapus '-'\n",
            "Undo : menghapus '+'\n",
            "Hasil dari 0 + 1 adalah 1\n",
            "Hasil dari 0 * 1 adalah 0\n",
            "Hasil dari 0 / 1 adalah 0.0\n",
            "Hasil dari 0 - 1 adalah -1\n"
          ]
        }
      ]
    },
    {
      "cell_type": "markdown",
      "source": [
        "# Latihan 2\n",
        "Buatlah program \"Navigasi History Aplikasi Mobile\", di mana fitur aplikasi yang\n",
        "dikunjungi disimpan dalam Stack.- Gunakan huruf pertama bulan lahir + dua digit\n",
        "terakhir NPM sebagai nama fitur aplikasi. Simpan minimal 3 fitur sebelum menguji\n",
        "tombol Back.\n"
      ],
      "metadata": {
        "id": "m22qUdxI8oSo"
      }
    },
    {
      "cell_type": "code",
      "source": [
        "# Mengimport library collections.deque\n",
        "# Deque digunakan untuk mendukung penambahan dan pelepasan kedua sisi lebih cepat\n",
        "from collections import deque\n",
        "\n",
        "# Menginisiasi class HistoryAplikasiMobile\n",
        "class HistoryAplikasiMobile :\n",
        "  # Method Constructor yang pertama kali jalan saat class inisiasi\n",
        "  def __init__(self) :\n",
        "    # Membuat atribut history untuk menyimpan screen aplikasi mobile yang di back\n",
        "    self.history = []\n",
        "\n",
        "  # Method yang digunakan apabila mengunjungi fitur baru\n",
        "  def kunjungi(self, fitur) :\n",
        "    # Menambahkan isi dari atriit historu tanda mengunjungi fitur baru\n",
        "    self.history.append(fitur)\n",
        "    print(f\"Anda sedang mengunjungi fitur : {fitur}\")\n",
        "\n",
        "  # Method yang nantinya akan digunakan untuk kembali dari fitur\n",
        "  def back(self)  :\n",
        "    # Jika data fiturnya masih ada\n",
        "    if self.history :\n",
        "      print(f\"Kembali dari: {self.history.pop()}\")\n",
        "    # Jika fitur yang di kunjungi masih belum ada\n",
        "    else :\n",
        "      print(\"Tidak ada riwayat fitur yang di kunjungi\")\n",
        "# Contoh penggunaan\n",
        "fitur = HistoryAplikasiMobile()\n",
        "\n",
        "# bulan dan dua digit pertama saya J01\n",
        "fitur.kunjungi(\"J01\")\n",
        "fitur.kunjungi(\"M21\")\n",
        "fitur.kunjungi(\"F11\")\n",
        "fitur.kunjungi(\"Dashboard\")\n",
        "fitur.kunjungi(\"Input Data\")\n",
        "fitur.kunjungi(\"Simpan Data\")\n",
        "\n",
        "# Untuk kembali ke fitur input data\n",
        "fitur.back()\n",
        "\n",
        "# Untuk menampilkan fitur yang saya kunjungi\n",
        "print(fitur.history)"
      ],
      "metadata": {
        "id": "K11EQxFkbiJ8",
        "colab": {
          "base_uri": "https://localhost:8080/"
        },
        "outputId": "7aed501f-80a5-437d-ddfe-bc1d27d7f707"
      },
      "execution_count": 1,
      "outputs": [
        {
          "output_type": "stream",
          "name": "stdout",
          "text": [
            "Anda sedang mengunjungi fitur : J01\n",
            "Anda sedang mengunjungi fitur : M21\n",
            "Anda sedang mengunjungi fitur : F11\n",
            "Anda sedang mengunjungi fitur : Dashboard\n",
            "Anda sedang mengunjungi fitur : Input Data\n",
            "Anda sedang mengunjungi fitur : Simpan Data\n",
            "Kembali dari: Simpan Data\n",
            "['J01', 'M21', 'F11', 'Dashboard', 'Input Data']\n"
          ]
        }
      ]
    },
    {
      "cell_type": "markdown",
      "source": [
        "# Latihan 3\n",
        "Buatlah program \"Sistem Penyimpanan Draft Email\", di mana email yang belum\n",
        "dikirim disimpan dalam Stack. Gunakan dua huruf pertama nama mahasiswa + dua\n",
        "digit terakhir NPM sebagai subjek email. Simpan minimal 3 draft email sebelum\n",
        "menguji fitur \"Lihat Draft Terakhir\""
      ],
      "metadata": {
        "id": "3c5xza7T8qzZ"
      }
    },
    {
      "cell_type": "code",
      "source": [
        "# Memanggil library queue.LifoQueue\n",
        "# LifoQueue digunakan untuk menggunakan data konsep Last in First Out.\n",
        "from queue import LifoQueue\n",
        "\n",
        "class DraftEmail :\n",
        "  # Method Constructor\n",
        "  def __init__(self) :\n",
        "    # Membuat atribut history saat pertama kali di inisiasi\n",
        "    # Dengan nilainya adalah LifoQueue library method yang digunakan untuk konsep LIFO\n",
        "    self.history = LifoQueue()\n",
        "\n",
        "  # Method untuk menambah draft email\n",
        "  def tambahDraft(self, drafText) :\n",
        "    # Menggunakan method put() untuk menambahkan\n",
        "    self.history.put(drafText)\n",
        "\n",
        "  def lihatDaftarTerakhir(self) :\n",
        "    # Jika datanya tidak kosong\n",
        "    if not self.history.empty():\n",
        "      # Mengembalikan nilai dari draft email terakhir\n",
        "      return f\"Draft Terakhir: {self.history.queue[-1]}\"\n",
        "    return \"Tidak ada draft.\"\n",
        "\n",
        "# Inisiasi class\n",
        "email = DraftEmail()\n",
        "\n",
        "# Menambahkan draft kebetulan huruf pertama saya FI01\n",
        "email.tambahDraft(\"FI01\")\n",
        "email.tambahDraft(\"NA02\")\n",
        "email.tambahDraft(\"AP03\")\n",
        "email.tambahDraft(\"KA04\")\n",
        "email.tambahDraft(\"Alajabar_Linear_Tugas1_2410506001\")\n",
        "email.tambahDraft(\"K3_Tugas1_2410506001\")\n",
        "\n",
        "print(email.lihatDaftarTerakhir());\n"
      ],
      "metadata": {
        "id": "nfiL5VtPldUt",
        "colab": {
          "base_uri": "https://localhost:8080/"
        },
        "outputId": "188b0335-d6f7-4a35-b997-793f72f084e1"
      },
      "execution_count": 2,
      "outputs": [
        {
          "output_type": "stream",
          "name": "stdout",
          "text": [
            "Draft Terakhir: K3_Tugas1_2410506001\n"
          ]
        }
      ]
    },
    {
      "cell_type": "markdown",
      "source": [
        "# Latihan 4\n",
        "Buatlah program \"Sistem Antrean Tiket Bioskop\", di mana pelanggan membeli tiket\n",
        "film dan antrean disimpan dalam Stack. Gunakan huruf pertama bulan lahir + dua\n",
        "digit terakhir NPM sebagai nama film. Beli minimal 3 tiket sebelum menguji sistem\n",
        "pemrosesan tiket."
      ],
      "metadata": {
        "id": "1D5OZV1n8vQn"
      }
    },
    {
      "cell_type": "code",
      "source": [
        "# Membuat class Tiket Bioskop\n",
        "class TiketBioskop:\n",
        "  # Method Constructor Function\n",
        "  def __init__(self):\n",
        "    # Membuat atribut tiket saat class baru pertama kali di inisiasi\n",
        "    self.tiket = []\n",
        "\n",
        "  # Method untuk menambahkan tiket\n",
        "  def tambah_tiket(self, tiket):\n",
        "    # Method bawaan list untuk menambahkan data\n",
        "    self.tiket.append(tiket)\n",
        "\n",
        "  # Method yang akan digunakan untuk memproses tiket\n",
        "  def proses_tiket(self):\n",
        "    # Cek apakah ada kolom yang kosong\n",
        "    if not self.kosong():\n",
        "      # Mengembalikan nilai yang di proses\n",
        "      return f\"Memproses tiket: {self.tiket.pop()}\"\n",
        "    # Jika tidak ada tiket atau datanya kosong\n",
        "    return \"Tidak ada tiket yang harus diproses.\"\n",
        "\n",
        "  # Method untuk cek apakah datanya kosong atau tidak\n",
        "  def kosong(self):\n",
        "    # Mengembalikan boolean True jika datanya kosong\n",
        "    return len(self.tiket) == 0\n",
        "\n",
        "\n",
        "# Inisiasi tiket bioskop\n",
        "antrean = TiketBioskop()\n",
        "# Menambah tiket\n",
        "antrean.tambah_tiket(\"Tiket J01\")\n",
        "antrean.tambah_tiket(\"Tiket M21\")\n",
        "antrean.tambah_tiket(\"Tiket F11\")\n",
        "\n",
        "# Memproses sebuah tiket\n",
        "print(antrean.proses_tiket())\n",
        "print(f\"Tiket yang belum di proses {antrean.tiket}\")"
      ],
      "metadata": {
        "colab": {
          "base_uri": "https://localhost:8080/"
        },
        "id": "_3h7JBO871PI",
        "outputId": "85ccb864-d690-4c39-829e-3e8b8634f731"
      },
      "execution_count": null,
      "outputs": [
        {
          "output_type": "stream",
          "name": "stdout",
          "text": [
            "Memproses tiket: Tiket F11\n",
            "Tiket yang belum di proses ['Tiket J01', 'Tiket M21']\n"
          ]
        }
      ]
    },
    {
      "cell_type": "code",
      "source": [],
      "metadata": {
        "id": "JNtiMeTuHqaY"
      },
      "execution_count": null,
      "outputs": []
    }
  ]
}